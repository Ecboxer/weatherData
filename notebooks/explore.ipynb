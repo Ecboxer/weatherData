{
 "cells": [
  {
   "cell_type": "code",
   "execution_count": 1,
   "metadata": {},
   "outputs": [],
   "source": [
    "import pandas as pd\n",
    "import numpy as np\n",
    "import matplotlib.pyplot as plt\n",
    "import seaborn as sns"
   ]
  },
  {
   "cell_type": "code",
   "execution_count": 4,
   "metadata": {},
   "outputs": [
    {
     "name": "stderr",
     "output_type": "stream",
     "text": [
      "/home/eric/anaconda3/lib/python3.7/site-packages/IPython/core/interactiveshell.py:2785: DtypeWarning: Columns (10,11,20,23,25,39,40,44,45,59,63,64,67,68,84,86) have mixed types. Specify dtype option on import or set low_memory=False.\n",
      "  interactivity=interactivity, compiler=compiler, result=result)\n"
     ]
    }
   ],
   "source": [
    "df = pd.read_csv('../resources/owm09172017_09172018.csv')"
   ]
  },
  {
   "cell_type": "markdown",
   "metadata": {},
   "source": [
    "Overview of the dataset"
   ]
  },
  {
   "cell_type": "code",
   "execution_count": 5,
   "metadata": {},
   "outputs": [
    {
     "data": {
      "text/html": [
       "<div>\n",
       "<style scoped>\n",
       "    .dataframe tbody tr th:only-of-type {\n",
       "        vertical-align: middle;\n",
       "    }\n",
       "\n",
       "    .dataframe tbody tr th {\n",
       "        vertical-align: top;\n",
       "    }\n",
       "\n",
       "    .dataframe thead th {\n",
       "        text-align: right;\n",
       "    }\n",
       "</style>\n",
       "<table border=\"1\" class=\"dataframe\">\n",
       "  <thead>\n",
       "    <tr style=\"text-align: right;\">\n",
       "      <th></th>\n",
       "      <th>STATION</th>\n",
       "      <th>STATION_NAME</th>\n",
       "      <th>ELEVATION</th>\n",
       "      <th>LATITUDE</th>\n",
       "      <th>LONGITUDE</th>\n",
       "      <th>DATE</th>\n",
       "      <th>REPORTTPYE</th>\n",
       "      <th>HOURLYSKYCONDITIONS</th>\n",
       "      <th>HOURLYVISIBILITY</th>\n",
       "      <th>HOURLYPRSENTWEATHERTYPE</th>\n",
       "      <th>...</th>\n",
       "      <th>MonthlyMaxSeaLevelPressureTime</th>\n",
       "      <th>MonthlyMinSeaLevelPressureValue</th>\n",
       "      <th>MonthlyMinSeaLevelPressureDate</th>\n",
       "      <th>MonthlyMinSeaLevelPressureTime</th>\n",
       "      <th>MonthlyTotalHeatingDegreeDays</th>\n",
       "      <th>MonthlyTotalCoolingDegreeDays</th>\n",
       "      <th>MonthlyDeptFromNormalHeatingDD</th>\n",
       "      <th>MonthlyDeptFromNormalCoolingDD</th>\n",
       "      <th>MonthlyTotalSeasonToDateHeatingDD</th>\n",
       "      <th>MonthlyTotalSeasonToDateCoolingDD</th>\n",
       "    </tr>\n",
       "  </thead>\n",
       "  <tbody>\n",
       "    <tr>\n",
       "      <th>0</th>\n",
       "      <td>WBAN:94728</td>\n",
       "      <td>NY CITY CENTRAL PARK NY US</td>\n",
       "      <td>42.7</td>\n",
       "      <td>40.77898</td>\n",
       "      <td>-73.96925</td>\n",
       "      <td>2017-09-16 00:51</td>\n",
       "      <td>FM-15</td>\n",
       "      <td>CLR:00</td>\n",
       "      <td>7.00</td>\n",
       "      <td>NaN</td>\n",
       "      <td>...</td>\n",
       "      <td>-9999</td>\n",
       "      <td>NaN</td>\n",
       "      <td>-9999</td>\n",
       "      <td>-9999</td>\n",
       "      <td>NaN</td>\n",
       "      <td>NaN</td>\n",
       "      <td>NaN</td>\n",
       "      <td>NaN</td>\n",
       "      <td>NaN</td>\n",
       "      <td>NaN</td>\n",
       "    </tr>\n",
       "    <tr>\n",
       "      <th>1</th>\n",
       "      <td>WBAN:94728</td>\n",
       "      <td>NY CITY CENTRAL PARK NY US</td>\n",
       "      <td>42.7</td>\n",
       "      <td>40.77898</td>\n",
       "      <td>-73.96925</td>\n",
       "      <td>2017-09-16 01:51</td>\n",
       "      <td>FM-15</td>\n",
       "      <td>CLR:00</td>\n",
       "      <td>6.00</td>\n",
       "      <td>BR:1 ||</td>\n",
       "      <td>...</td>\n",
       "      <td>-9999</td>\n",
       "      <td>NaN</td>\n",
       "      <td>-9999</td>\n",
       "      <td>-9999</td>\n",
       "      <td>NaN</td>\n",
       "      <td>NaN</td>\n",
       "      <td>NaN</td>\n",
       "      <td>NaN</td>\n",
       "      <td>NaN</td>\n",
       "      <td>NaN</td>\n",
       "    </tr>\n",
       "    <tr>\n",
       "      <th>2</th>\n",
       "      <td>WBAN:94728</td>\n",
       "      <td>NY CITY CENTRAL PARK NY US</td>\n",
       "      <td>42.7</td>\n",
       "      <td>40.77898</td>\n",
       "      <td>-73.96925</td>\n",
       "      <td>2017-09-16 02:51</td>\n",
       "      <td>FM-15</td>\n",
       "      <td>CLR:00</td>\n",
       "      <td>4.00</td>\n",
       "      <td>BR:1 ||</td>\n",
       "      <td>...</td>\n",
       "      <td>-9999</td>\n",
       "      <td>NaN</td>\n",
       "      <td>-9999</td>\n",
       "      <td>-9999</td>\n",
       "      <td>NaN</td>\n",
       "      <td>NaN</td>\n",
       "      <td>NaN</td>\n",
       "      <td>NaN</td>\n",
       "      <td>NaN</td>\n",
       "      <td>NaN</td>\n",
       "    </tr>\n",
       "    <tr>\n",
       "      <th>3</th>\n",
       "      <td>WBAN:94728</td>\n",
       "      <td>NY CITY CENTRAL PARK NY US</td>\n",
       "      <td>42.7</td>\n",
       "      <td>40.77898</td>\n",
       "      <td>-73.96925</td>\n",
       "      <td>2017-09-16 03:51</td>\n",
       "      <td>FM-15</td>\n",
       "      <td>CLR:00</td>\n",
       "      <td>3.00</td>\n",
       "      <td>BR:1 ||</td>\n",
       "      <td>...</td>\n",
       "      <td>-9999</td>\n",
       "      <td>NaN</td>\n",
       "      <td>-9999</td>\n",
       "      <td>-9999</td>\n",
       "      <td>NaN</td>\n",
       "      <td>NaN</td>\n",
       "      <td>NaN</td>\n",
       "      <td>NaN</td>\n",
       "      <td>NaN</td>\n",
       "      <td>NaN</td>\n",
       "    </tr>\n",
       "    <tr>\n",
       "      <th>4</th>\n",
       "      <td>WBAN:94728</td>\n",
       "      <td>NY CITY CENTRAL PARK NY US</td>\n",
       "      <td>42.7</td>\n",
       "      <td>40.77898</td>\n",
       "      <td>-73.96925</td>\n",
       "      <td>2017-09-16 03:59</td>\n",
       "      <td>FM-16</td>\n",
       "      <td>CLR:00</td>\n",
       "      <td>2.50</td>\n",
       "      <td>BR:1 ||</td>\n",
       "      <td>...</td>\n",
       "      <td>-9999</td>\n",
       "      <td>NaN</td>\n",
       "      <td>-9999</td>\n",
       "      <td>-9999</td>\n",
       "      <td>NaN</td>\n",
       "      <td>NaN</td>\n",
       "      <td>NaN</td>\n",
       "      <td>NaN</td>\n",
       "      <td>NaN</td>\n",
       "      <td>NaN</td>\n",
       "    </tr>\n",
       "  </tbody>\n",
       "</table>\n",
       "<p>5 rows × 90 columns</p>\n",
       "</div>"
      ],
      "text/plain": [
       "      STATION                STATION_NAME  ELEVATION  LATITUDE  LONGITUDE  \\\n",
       "0  WBAN:94728  NY CITY CENTRAL PARK NY US       42.7  40.77898  -73.96925   \n",
       "1  WBAN:94728  NY CITY CENTRAL PARK NY US       42.7  40.77898  -73.96925   \n",
       "2  WBAN:94728  NY CITY CENTRAL PARK NY US       42.7  40.77898  -73.96925   \n",
       "3  WBAN:94728  NY CITY CENTRAL PARK NY US       42.7  40.77898  -73.96925   \n",
       "4  WBAN:94728  NY CITY CENTRAL PARK NY US       42.7  40.77898  -73.96925   \n",
       "\n",
       "               DATE REPORTTPYE HOURLYSKYCONDITIONS HOURLYVISIBILITY  \\\n",
       "0  2017-09-16 00:51      FM-15              CLR:00             7.00   \n",
       "1  2017-09-16 01:51      FM-15              CLR:00             6.00   \n",
       "2  2017-09-16 02:51      FM-15              CLR:00             4.00   \n",
       "3  2017-09-16 03:51      FM-15              CLR:00             3.00   \n",
       "4  2017-09-16 03:59      FM-16              CLR:00             2.50   \n",
       "\n",
       "  HOURLYPRSENTWEATHERTYPE                ...                  \\\n",
       "0                     NaN                ...                   \n",
       "1                 BR:1 ||                ...                   \n",
       "2                 BR:1 ||                ...                   \n",
       "3                 BR:1 ||                ...                   \n",
       "4                 BR:1 ||                ...                   \n",
       "\n",
       "  MonthlyMaxSeaLevelPressureTime MonthlyMinSeaLevelPressureValue  \\\n",
       "0                          -9999                             NaN   \n",
       "1                          -9999                             NaN   \n",
       "2                          -9999                             NaN   \n",
       "3                          -9999                             NaN   \n",
       "4                          -9999                             NaN   \n",
       "\n",
       "   MonthlyMinSeaLevelPressureDate  MonthlyMinSeaLevelPressureTime  \\\n",
       "0                           -9999                           -9999   \n",
       "1                           -9999                           -9999   \n",
       "2                           -9999                           -9999   \n",
       "3                           -9999                           -9999   \n",
       "4                           -9999                           -9999   \n",
       "\n",
       "   MonthlyTotalHeatingDegreeDays  MonthlyTotalCoolingDegreeDays  \\\n",
       "0                            NaN                            NaN   \n",
       "1                            NaN                            NaN   \n",
       "2                            NaN                            NaN   \n",
       "3                            NaN                            NaN   \n",
       "4                            NaN                            NaN   \n",
       "\n",
       "   MonthlyDeptFromNormalHeatingDD  MonthlyDeptFromNormalCoolingDD  \\\n",
       "0                             NaN                             NaN   \n",
       "1                             NaN                             NaN   \n",
       "2                             NaN                             NaN   \n",
       "3                             NaN                             NaN   \n",
       "4                             NaN                             NaN   \n",
       "\n",
       "  MonthlyTotalSeasonToDateHeatingDD  MonthlyTotalSeasonToDateCoolingDD  \n",
       "0                               NaN                                NaN  \n",
       "1                               NaN                                NaN  \n",
       "2                               NaN                                NaN  \n",
       "3                               NaN                                NaN  \n",
       "4                               NaN                                NaN  \n",
       "\n",
       "[5 rows x 90 columns]"
      ]
     },
     "execution_count": 5,
     "metadata": {},
     "output_type": "execute_result"
    }
   ],
   "source": [
    "df.head()"
   ]
  },
  {
   "cell_type": "code",
   "execution_count": 7,
   "metadata": {},
   "outputs": [
    {
     "data": {
      "text/plain": [
       "(11959, 90)"
      ]
     },
     "execution_count": 7,
     "metadata": {},
     "output_type": "execute_result"
    }
   ],
   "source": [
    "df.shape"
   ]
  },
  {
   "cell_type": "code",
   "execution_count": 8,
   "metadata": {},
   "outputs": [
    {
     "data": {
      "text/plain": [
       "Index(['STATION', 'STATION_NAME', 'ELEVATION', 'LATITUDE', 'LONGITUDE', 'DATE',\n",
       "       'REPORTTPYE', 'HOURLYSKYCONDITIONS', 'HOURLYVISIBILITY',\n",
       "       'HOURLYPRSENTWEATHERTYPE', 'HOURLYDRYBULBTEMPF', 'HOURLYDRYBULBTEMPC',\n",
       "       'HOURLYWETBULBTEMPF', 'HOURLYWETBULBTEMPC', 'HOURLYDewPointTempF',\n",
       "       'HOURLYDewPointTempC', 'HOURLYRelativeHumidity', 'HOURLYWindSpeed',\n",
       "       'HOURLYWindDirection', 'HOURLYWindGustSpeed', 'HOURLYStationPressure',\n",
       "       'HOURLYPressureTendency', 'HOURLYPressureChange',\n",
       "       'HOURLYSeaLevelPressure', 'HOURLYPrecip', 'HOURLYAltimeterSetting',\n",
       "       'DAILYMaximumDryBulbTemp', 'DAILYMinimumDryBulbTemp',\n",
       "       'DAILYAverageDryBulbTemp', 'DAILYDeptFromNormalAverageTemp',\n",
       "       'DAILYAverageRelativeHumidity', 'DAILYAverageDewPointTemp',\n",
       "       'DAILYAverageWetBulbTemp', 'DAILYHeatingDegreeDays',\n",
       "       'DAILYCoolingDegreeDays', 'DAILYSunrise', 'DAILYSunset', 'DAILYWeather',\n",
       "       'DAILYPrecip', 'DAILYSnowfall', 'DAILYSnowDepth',\n",
       "       'DAILYAverageStationPressure', 'DAILYAverageSeaLevelPressure',\n",
       "       'DAILYAverageWindSpeed', 'DAILYPeakWindSpeed', 'PeakWindDirection',\n",
       "       'DAILYSustainedWindSpeed', 'DAILYSustainedWindDirection',\n",
       "       'MonthlyMaximumTemp', 'MonthlyMinimumTemp', 'MonthlyMeanTemp',\n",
       "       'MonthlyAverageRH', 'MonthlyDewpointTemp', 'MonthlyWetBulbTemp',\n",
       "       'MonthlyAvgHeatingDegreeDays', 'MonthlyAvgCoolingDegreeDays',\n",
       "       'MonthlyStationPressure', 'MonthlySeaLevelPressure',\n",
       "       'MonthlyAverageWindSpeed', 'MonthlyTotalSnowfall',\n",
       "       'MonthlyDeptFromNormalMaximumTemp', 'MonthlyDeptFromNormalMinimumTemp',\n",
       "       'MonthlyDeptFromNormalAverageTemp', 'MonthlyDeptFromNormalPrecip',\n",
       "       'MonthlyTotalLiquidPrecip', 'MonthlyGreatestPrecip',\n",
       "       'MonthlyGreatestPrecipDate', 'MonthlyGreatestSnowfall',\n",
       "       'MonthlyGreatestSnowfallDate', 'MonthlyGreatestSnowDepth',\n",
       "       'MonthlyGreatestSnowDepthDate', 'MonthlyDaysWithGT90Temp',\n",
       "       'MonthlyDaysWithLT32Temp', 'MonthlyDaysWithGT32Temp',\n",
       "       'MonthlyDaysWithLT0Temp', 'MonthlyDaysWithGT001Precip',\n",
       "       'MonthlyDaysWithGT010Precip', 'MonthlyDaysWithGT1Snow',\n",
       "       'MonthlyMaxSeaLevelPressureValue', 'MonthlyMaxSeaLevelPressureDate',\n",
       "       'MonthlyMaxSeaLevelPressureTime', 'MonthlyMinSeaLevelPressureValue',\n",
       "       'MonthlyMinSeaLevelPressureDate', 'MonthlyMinSeaLevelPressureTime',\n",
       "       'MonthlyTotalHeatingDegreeDays', 'MonthlyTotalCoolingDegreeDays',\n",
       "       'MonthlyDeptFromNormalHeatingDD', 'MonthlyDeptFromNormalCoolingDD',\n",
       "       'MonthlyTotalSeasonToDateHeatingDD',\n",
       "       'MonthlyTotalSeasonToDateCoolingDD'],\n",
       "      dtype='object')"
      ]
     },
     "execution_count": 8,
     "metadata": {},
     "output_type": "execute_result"
    }
   ],
   "source": [
    "df.columns"
   ]
  },
  {
   "cell_type": "markdown",
   "metadata": {},
   "source": [
    "All data is, by design, from the Central Park station  \n",
    "**Ideas**  \n",
    "Cloud cover sunlight/present weather  \n",
    "Could I do something neat with wind direction and speed? Some kind of cartesian coordinates with vectors for wind?  \n",
    "Could choose daily data if hourly is too cluttered. Choose daily or monthly if displaying muliple years' worth of data"
   ]
  },
  {
   "cell_type": "code",
   "execution_count": 52,
   "metadata": {},
   "outputs": [],
   "source": [
    "columns_keep = ['DATE', 'HOURLYSKYCONDITIONS', 'HOURLYVISIBILITY', 'HOURLYPRSENTWEATHERTYPE', 'HOURLYRelativeHumidity', 'HOURLYWindSpeed', 'HOURLYWindDirection',\n",
    "               'HOURLYWindGustSpeed', 'HOURLYPrecip', 'DAILYSunrise', 'DAILYSunset', 'DAILYWeather', 'DAILYPrecip', 'DAILYSnowfall']"
   ]
  },
  {
   "cell_type": "code",
   "execution_count": 54,
   "metadata": {},
   "outputs": [],
   "source": [
    "df_thin = df[columns_keep]"
   ]
  },
  {
   "cell_type": "code",
   "execution_count": 55,
   "metadata": {},
   "outputs": [
    {
     "data": {
      "text/html": [
       "<div>\n",
       "<style scoped>\n",
       "    .dataframe tbody tr th:only-of-type {\n",
       "        vertical-align: middle;\n",
       "    }\n",
       "\n",
       "    .dataframe tbody tr th {\n",
       "        vertical-align: top;\n",
       "    }\n",
       "\n",
       "    .dataframe thead th {\n",
       "        text-align: right;\n",
       "    }\n",
       "</style>\n",
       "<table border=\"1\" class=\"dataframe\">\n",
       "  <thead>\n",
       "    <tr style=\"text-align: right;\">\n",
       "      <th></th>\n",
       "      <th>DATE</th>\n",
       "      <th>HOURLYSKYCONDITIONS</th>\n",
       "      <th>HOURLYVISIBILITY</th>\n",
       "      <th>HOURLYPRSENTWEATHERTYPE</th>\n",
       "      <th>HOURLYRelativeHumidity</th>\n",
       "      <th>HOURLYWindSpeed</th>\n",
       "      <th>HOURLYWindDirection</th>\n",
       "      <th>HOURLYWindGustSpeed</th>\n",
       "      <th>HOURLYPrecip</th>\n",
       "      <th>DAILYSunrise</th>\n",
       "      <th>DAILYSunset</th>\n",
       "      <th>DAILYWeather</th>\n",
       "      <th>DAILYPrecip</th>\n",
       "      <th>DAILYSnowfall</th>\n",
       "    </tr>\n",
       "  </thead>\n",
       "  <tbody>\n",
       "    <tr>\n",
       "      <th>0</th>\n",
       "      <td>2017-09-16 00:51</td>\n",
       "      <td>CLR:00</td>\n",
       "      <td>7.00</td>\n",
       "      <td>NaN</td>\n",
       "      <td>87.0</td>\n",
       "      <td>0.0</td>\n",
       "      <td>000</td>\n",
       "      <td>NaN</td>\n",
       "      <td>NaN</td>\n",
       "      <td>537</td>\n",
       "      <td>1804</td>\n",
       "      <td>NaN</td>\n",
       "      <td>NaN</td>\n",
       "      <td>NaN</td>\n",
       "    </tr>\n",
       "    <tr>\n",
       "      <th>1</th>\n",
       "      <td>2017-09-16 01:51</td>\n",
       "      <td>CLR:00</td>\n",
       "      <td>6.00</td>\n",
       "      <td>BR:1 ||</td>\n",
       "      <td>90.0</td>\n",
       "      <td>0.0</td>\n",
       "      <td>000</td>\n",
       "      <td>NaN</td>\n",
       "      <td>0.00</td>\n",
       "      <td>537</td>\n",
       "      <td>1804</td>\n",
       "      <td>NaN</td>\n",
       "      <td>NaN</td>\n",
       "      <td>NaN</td>\n",
       "    </tr>\n",
       "    <tr>\n",
       "      <th>2</th>\n",
       "      <td>2017-09-16 02:51</td>\n",
       "      <td>CLR:00</td>\n",
       "      <td>4.00</td>\n",
       "      <td>BR:1 ||</td>\n",
       "      <td>90.0</td>\n",
       "      <td>3.0</td>\n",
       "      <td>040</td>\n",
       "      <td>NaN</td>\n",
       "      <td>0.00</td>\n",
       "      <td>537</td>\n",
       "      <td>1804</td>\n",
       "      <td>NaN</td>\n",
       "      <td>NaN</td>\n",
       "      <td>NaN</td>\n",
       "    </tr>\n",
       "    <tr>\n",
       "      <th>3</th>\n",
       "      <td>2017-09-16 03:51</td>\n",
       "      <td>CLR:00</td>\n",
       "      <td>3.00</td>\n",
       "      <td>BR:1 ||</td>\n",
       "      <td>93.0</td>\n",
       "      <td>3.0</td>\n",
       "      <td>050</td>\n",
       "      <td>NaN</td>\n",
       "      <td>0.00</td>\n",
       "      <td>537</td>\n",
       "      <td>1804</td>\n",
       "      <td>NaN</td>\n",
       "      <td>NaN</td>\n",
       "      <td>NaN</td>\n",
       "    </tr>\n",
       "    <tr>\n",
       "      <th>4</th>\n",
       "      <td>2017-09-16 03:59</td>\n",
       "      <td>CLR:00</td>\n",
       "      <td>2.50</td>\n",
       "      <td>BR:1 ||</td>\n",
       "      <td>93.0</td>\n",
       "      <td>0.0</td>\n",
       "      <td>000</td>\n",
       "      <td>NaN</td>\n",
       "      <td>NaN</td>\n",
       "      <td>537</td>\n",
       "      <td>1804</td>\n",
       "      <td>NaN</td>\n",
       "      <td>NaN</td>\n",
       "      <td>NaN</td>\n",
       "    </tr>\n",
       "  </tbody>\n",
       "</table>\n",
       "</div>"
      ],
      "text/plain": [
       "               DATE HOURLYSKYCONDITIONS HOURLYVISIBILITY  \\\n",
       "0  2017-09-16 00:51              CLR:00             7.00   \n",
       "1  2017-09-16 01:51              CLR:00             6.00   \n",
       "2  2017-09-16 02:51              CLR:00             4.00   \n",
       "3  2017-09-16 03:51              CLR:00             3.00   \n",
       "4  2017-09-16 03:59              CLR:00             2.50   \n",
       "\n",
       "  HOURLYPRSENTWEATHERTYPE  HOURLYRelativeHumidity  HOURLYWindSpeed  \\\n",
       "0                     NaN                    87.0              0.0   \n",
       "1                 BR:1 ||                    90.0              0.0   \n",
       "2                 BR:1 ||                    90.0              3.0   \n",
       "3                 BR:1 ||                    93.0              3.0   \n",
       "4                 BR:1 ||                    93.0              0.0   \n",
       "\n",
       "  HOURLYWindDirection  HOURLYWindGustSpeed HOURLYPrecip  DAILYSunrise  \\\n",
       "0                 000                  NaN          NaN           537   \n",
       "1                 000                  NaN         0.00           537   \n",
       "2                 040                  NaN         0.00           537   \n",
       "3                 050                  NaN         0.00           537   \n",
       "4                 000                  NaN          NaN           537   \n",
       "\n",
       "   DAILYSunset DAILYWeather DAILYPrecip DAILYSnowfall  \n",
       "0         1804          NaN         NaN           NaN  \n",
       "1         1804          NaN         NaN           NaN  \n",
       "2         1804          NaN         NaN           NaN  \n",
       "3         1804          NaN         NaN           NaN  \n",
       "4         1804          NaN         NaN           NaN  "
      ]
     },
     "execution_count": 55,
     "metadata": {},
     "output_type": "execute_result"
    }
   ],
   "source": [
    "df_thin.head()"
   ]
  },
  {
   "cell_type": "markdown",
   "metadata": {},
   "source": [
    "Missing data"
   ]
  },
  {
   "cell_type": "code",
   "execution_count": 62,
   "metadata": {},
   "outputs": [
    {
     "data": {
      "text/plain": [
       "DATE                           0\n",
       "HOURLYSKYCONDITIONS          393\n",
       "HOURLYVISIBILITY             364\n",
       "HOURLYPRSENTWEATHERTYPE     8792\n",
       "HOURLYRelativeHumidity       362\n",
       "HOURLYWindSpeed             1147\n",
       "HOURLYWindDirection         1149\n",
       "HOURLYWindGustSpeed        10162\n",
       "HOURLYPrecip                1973\n",
       "DAILYSunrise                   0\n",
       "DAILYSunset                    0\n",
       "DAILYWeather               11762\n",
       "DAILYPrecip                11447\n",
       "DAILYSnowfall              11595\n",
       "dtype: int64"
      ]
     },
     "execution_count": 62,
     "metadata": {},
     "output_type": "execute_result"
    }
   ],
   "source": [
    "df_thin.isna().sum()"
   ]
  },
  {
   "cell_type": "markdown",
   "metadata": {},
   "source": [
    "Available Data"
   ]
  },
  {
   "cell_type": "code",
   "execution_count": 63,
   "metadata": {},
   "outputs": [
    {
     "data": {
      "text/plain": [
       "DATE                       11959\n",
       "HOURLYSKYCONDITIONS        11566\n",
       "HOURLYVISIBILITY           11595\n",
       "HOURLYPRSENTWEATHERTYPE     3167\n",
       "HOURLYRelativeHumidity     11597\n",
       "HOURLYWindSpeed            10812\n",
       "HOURLYWindDirection        10810\n",
       "HOURLYWindGustSpeed         1797\n",
       "HOURLYPrecip                9986\n",
       "DAILYSunrise               11959\n",
       "DAILYSunset                11959\n",
       "DAILYWeather                 197\n",
       "DAILYPrecip                  512\n",
       "DAILYSnowfall                364\n",
       "dtype: int64"
      ]
     },
     "execution_count": 63,
     "metadata": {},
     "output_type": "execute_result"
    }
   ],
   "source": [
    "df_thin.shape[0] - df_thin.isna().sum()"
   ]
  },
  {
   "cell_type": "markdown",
   "metadata": {},
   "source": [
    "Drop daily values for now"
   ]
  },
  {
   "cell_type": "code",
   "execution_count": 69,
   "metadata": {},
   "outputs": [],
   "source": [
    "df_skinny = df_thin.drop(['DAILYWeather', 'DAILYPrecip', 'DAILYSnowfall'], axis=1)"
   ]
  },
  {
   "cell_type": "code",
   "execution_count": 71,
   "metadata": {},
   "outputs": [
    {
     "data": {
      "text/plain": [
       "DATE                       11959\n",
       "HOURLYSKYCONDITIONS        11566\n",
       "HOURLYVISIBILITY           11595\n",
       "HOURLYPRSENTWEATHERTYPE     3167\n",
       "HOURLYRelativeHumidity     11597\n",
       "HOURLYWindSpeed            10812\n",
       "HOURLYWindDirection        10810\n",
       "HOURLYWindGustSpeed         1797\n",
       "HOURLYPrecip                9986\n",
       "DAILYSunrise               11959\n",
       "DAILYSunset                11959\n",
       "dtype: int64"
      ]
     },
     "execution_count": 71,
     "metadata": {},
     "output_type": "execute_result"
    }
   ],
   "source": [
    "df_skinny.shape[0] - df_skinny.isna().sum()"
   ]
  },
  {
   "cell_type": "markdown",
   "metadata": {},
   "source": [
    "Create features for DATE parts"
   ]
  },
  {
   "cell_type": "code",
   "execution_count": 72,
   "metadata": {},
   "outputs": [
    {
     "data": {
      "text/plain": [
       "0    2017-09-16 00:51\n",
       "1    2017-09-16 01:51\n",
       "2    2017-09-16 02:51\n",
       "3    2017-09-16 03:51\n",
       "4    2017-09-16 03:59\n",
       "Name: DATE, dtype: object"
      ]
     },
     "execution_count": 72,
     "metadata": {},
     "output_type": "execute_result"
    }
   ],
   "source": [
    "df_skinny['DATE'].head()"
   ]
  },
  {
   "cell_type": "code",
   "execution_count": 85,
   "metadata": {},
   "outputs": [],
   "source": [
    "def get_year(row): # Get the year from DATE column\n",
    "    return int(row[:4])\n",
    "df_skinny['Year'] = df_skinny['DATE'].apply(get_year)"
   ]
  },
  {
   "cell_type": "code",
   "execution_count": 86,
   "metadata": {},
   "outputs": [],
   "source": [
    "def get_month(row): # Get the month from DATE column\n",
    "    return int(row[5:7])\n",
    "df_skinny['Month'] = df_skinny['DATE'].apply(get_month)"
   ]
  },
  {
   "cell_type": "code",
   "execution_count": 89,
   "metadata": {},
   "outputs": [],
   "source": [
    "def get_day(row): # Get the day from DATE column\n",
    "    return int(row[8:10])\n",
    "df_skinny['Day'] = df_skinny['DATE'].apply(get_day)"
   ]
  },
  {
   "cell_type": "code",
   "execution_count": 94,
   "metadata": {},
   "outputs": [],
   "source": [
    "def get_hour(row): # Get the hour from DATE column\n",
    "    return int(row[11:13])\n",
    "df_skinny['Hour'] = df_skinny['DATE'].apply(get_hour)"
   ]
  },
  {
   "cell_type": "markdown",
   "metadata": {},
   "source": [
    "Create matching features for sunrise and sunset"
   ]
  },
  {
   "cell_type": "code",
   "execution_count": 105,
   "metadata": {},
   "outputs": [],
   "source": [
    "df_skinny['SunriseHour'] = df_skinny['DAILYSunrise'] // 100"
   ]
  },
  {
   "cell_type": "code",
   "execution_count": 106,
   "metadata": {},
   "outputs": [],
   "source": [
    "df_skinny['SunriseMin'] = df_skinny['DAILYSunrise'] % 100"
   ]
  },
  {
   "cell_type": "code",
   "execution_count": 108,
   "metadata": {},
   "outputs": [],
   "source": [
    "df_skinny['SunsetHour'] = df_skinny['DAILYSunset'] // 100"
   ]
  },
  {
   "cell_type": "code",
   "execution_count": 109,
   "metadata": {},
   "outputs": [],
   "source": [
    "df_skinny['SunsetMin'] = df_skinny['DAILYSunset'] % 100"
   ]
  },
  {
   "cell_type": "code",
   "execution_count": 113,
   "metadata": {},
   "outputs": [
    {
     "data": {
      "text/plain": [
       "0    CLR:00\n",
       "1    CLR:00\n",
       "2    CLR:00\n",
       "3    CLR:00\n",
       "4    CLR:00\n",
       "Name: HOURLYSKYCONDITIONS, dtype: object"
      ]
     },
     "execution_count": 113,
     "metadata": {},
     "output_type": "execute_result"
    }
   ],
   "source": [
    "df_skinny['HOURLYSKYCONDITIONS'].head()"
   ]
  },
  {
   "cell_type": "code",
   "execution_count": 110,
   "metadata": {},
   "outputs": [
    {
     "data": {
      "text/plain": [
       "Index(['DATE', 'HOURLYSKYCONDITIONS', 'HOURLYVISIBILITY',\n",
       "       'HOURLYPRSENTWEATHERTYPE', 'HOURLYRelativeHumidity', 'HOURLYWindSpeed',\n",
       "       'HOURLYWindDirection', 'HOURLYWindGustSpeed', 'HOURLYPrecip',\n",
       "       'DAILYSunrise', 'DAILYSunset', 'Year', 'Month', 'Day', 'Hour',\n",
       "       'SunriseHour', 'SunriseMin', 'SunsetHour', 'SunsetMin'],\n",
       "      dtype='object')"
      ]
     },
     "execution_count": 110,
     "metadata": {},
     "output_type": "execute_result"
    }
   ],
   "source": [
    "df_skinny.columns"
   ]
  }
 ],
 "metadata": {
  "kernelspec": {
   "display_name": "Python 3",
   "language": "python",
   "name": "python3"
  },
  "language_info": {
   "codemirror_mode": {
    "name": "ipython",
    "version": 3
   },
   "file_extension": ".py",
   "mimetype": "text/x-python",
   "name": "python",
   "nbconvert_exporter": "python",
   "pygments_lexer": "ipython3",
   "version": "3.7.0"
  }
 },
 "nbformat": 4,
 "nbformat_minor": 2
}
