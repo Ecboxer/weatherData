{
 "cells": [
  {
   "cell_type": "code",
   "execution_count": 1,
   "metadata": {},
   "outputs": [],
   "source": [
    "import pandas as pd\n",
    "import numpy as np\n",
    "import matplotlib.pyplot as plt\n",
    "import seaborn as sns\n",
    "import re"
   ]
  },
  {
   "cell_type": "code",
   "execution_count": 2,
   "metadata": {},
   "outputs": [
    {
     "name": "stderr",
     "output_type": "stream",
     "text": [
      "/home/eric/anaconda3/lib/python3.7/site-packages/IPython/core/interactiveshell.py:2785: DtypeWarning: Columns (10,11,20,23,25,39,40,44,45,59,63,64,67,68,84,86) have mixed types. Specify dtype option on import or set low_memory=False.\n",
      "  interactivity=interactivity, compiler=compiler, result=result)\n"
     ]
    }
   ],
   "source": [
    "df = pd.read_csv('../resources/owm09172017_09172018.csv')"
   ]
  },
  {
   "cell_type": "markdown",
   "metadata": {},
   "source": [
    "Overview of the dataset"
   ]
  },
  {
   "cell_type": "code",
   "execution_count": 3,
   "metadata": {},
   "outputs": [
    {
     "data": {
      "text/html": [
       "<div>\n",
       "<style scoped>\n",
       "    .dataframe tbody tr th:only-of-type {\n",
       "        vertical-align: middle;\n",
       "    }\n",
       "\n",
       "    .dataframe tbody tr th {\n",
       "        vertical-align: top;\n",
       "    }\n",
       "\n",
       "    .dataframe thead th {\n",
       "        text-align: right;\n",
       "    }\n",
       "</style>\n",
       "<table border=\"1\" class=\"dataframe\">\n",
       "  <thead>\n",
       "    <tr style=\"text-align: right;\">\n",
       "      <th></th>\n",
       "      <th>STATION</th>\n",
       "      <th>STATION_NAME</th>\n",
       "      <th>ELEVATION</th>\n",
       "      <th>LATITUDE</th>\n",
       "      <th>LONGITUDE</th>\n",
       "      <th>DATE</th>\n",
       "      <th>REPORTTPYE</th>\n",
       "      <th>HOURLYSKYCONDITIONS</th>\n",
       "      <th>HOURLYVISIBILITY</th>\n",
       "      <th>HOURLYPRSENTWEATHERTYPE</th>\n",
       "      <th>...</th>\n",
       "      <th>MonthlyMaxSeaLevelPressureTime</th>\n",
       "      <th>MonthlyMinSeaLevelPressureValue</th>\n",
       "      <th>MonthlyMinSeaLevelPressureDate</th>\n",
       "      <th>MonthlyMinSeaLevelPressureTime</th>\n",
       "      <th>MonthlyTotalHeatingDegreeDays</th>\n",
       "      <th>MonthlyTotalCoolingDegreeDays</th>\n",
       "      <th>MonthlyDeptFromNormalHeatingDD</th>\n",
       "      <th>MonthlyDeptFromNormalCoolingDD</th>\n",
       "      <th>MonthlyTotalSeasonToDateHeatingDD</th>\n",
       "      <th>MonthlyTotalSeasonToDateCoolingDD</th>\n",
       "    </tr>\n",
       "  </thead>\n",
       "  <tbody>\n",
       "    <tr>\n",
       "      <th>0</th>\n",
       "      <td>WBAN:94728</td>\n",
       "      <td>NY CITY CENTRAL PARK NY US</td>\n",
       "      <td>42.7</td>\n",
       "      <td>40.77898</td>\n",
       "      <td>-73.96925</td>\n",
       "      <td>2017-09-16 00:51</td>\n",
       "      <td>FM-15</td>\n",
       "      <td>CLR:00</td>\n",
       "      <td>7.00</td>\n",
       "      <td>NaN</td>\n",
       "      <td>...</td>\n",
       "      <td>-9999</td>\n",
       "      <td>NaN</td>\n",
       "      <td>-9999</td>\n",
       "      <td>-9999</td>\n",
       "      <td>NaN</td>\n",
       "      <td>NaN</td>\n",
       "      <td>NaN</td>\n",
       "      <td>NaN</td>\n",
       "      <td>NaN</td>\n",
       "      <td>NaN</td>\n",
       "    </tr>\n",
       "    <tr>\n",
       "      <th>1</th>\n",
       "      <td>WBAN:94728</td>\n",
       "      <td>NY CITY CENTRAL PARK NY US</td>\n",
       "      <td>42.7</td>\n",
       "      <td>40.77898</td>\n",
       "      <td>-73.96925</td>\n",
       "      <td>2017-09-16 01:51</td>\n",
       "      <td>FM-15</td>\n",
       "      <td>CLR:00</td>\n",
       "      <td>6.00</td>\n",
       "      <td>BR:1 ||</td>\n",
       "      <td>...</td>\n",
       "      <td>-9999</td>\n",
       "      <td>NaN</td>\n",
       "      <td>-9999</td>\n",
       "      <td>-9999</td>\n",
       "      <td>NaN</td>\n",
       "      <td>NaN</td>\n",
       "      <td>NaN</td>\n",
       "      <td>NaN</td>\n",
       "      <td>NaN</td>\n",
       "      <td>NaN</td>\n",
       "    </tr>\n",
       "    <tr>\n",
       "      <th>2</th>\n",
       "      <td>WBAN:94728</td>\n",
       "      <td>NY CITY CENTRAL PARK NY US</td>\n",
       "      <td>42.7</td>\n",
       "      <td>40.77898</td>\n",
       "      <td>-73.96925</td>\n",
       "      <td>2017-09-16 02:51</td>\n",
       "      <td>FM-15</td>\n",
       "      <td>CLR:00</td>\n",
       "      <td>4.00</td>\n",
       "      <td>BR:1 ||</td>\n",
       "      <td>...</td>\n",
       "      <td>-9999</td>\n",
       "      <td>NaN</td>\n",
       "      <td>-9999</td>\n",
       "      <td>-9999</td>\n",
       "      <td>NaN</td>\n",
       "      <td>NaN</td>\n",
       "      <td>NaN</td>\n",
       "      <td>NaN</td>\n",
       "      <td>NaN</td>\n",
       "      <td>NaN</td>\n",
       "    </tr>\n",
       "    <tr>\n",
       "      <th>3</th>\n",
       "      <td>WBAN:94728</td>\n",
       "      <td>NY CITY CENTRAL PARK NY US</td>\n",
       "      <td>42.7</td>\n",
       "      <td>40.77898</td>\n",
       "      <td>-73.96925</td>\n",
       "      <td>2017-09-16 03:51</td>\n",
       "      <td>FM-15</td>\n",
       "      <td>CLR:00</td>\n",
       "      <td>3.00</td>\n",
       "      <td>BR:1 ||</td>\n",
       "      <td>...</td>\n",
       "      <td>-9999</td>\n",
       "      <td>NaN</td>\n",
       "      <td>-9999</td>\n",
       "      <td>-9999</td>\n",
       "      <td>NaN</td>\n",
       "      <td>NaN</td>\n",
       "      <td>NaN</td>\n",
       "      <td>NaN</td>\n",
       "      <td>NaN</td>\n",
       "      <td>NaN</td>\n",
       "    </tr>\n",
       "    <tr>\n",
       "      <th>4</th>\n",
       "      <td>WBAN:94728</td>\n",
       "      <td>NY CITY CENTRAL PARK NY US</td>\n",
       "      <td>42.7</td>\n",
       "      <td>40.77898</td>\n",
       "      <td>-73.96925</td>\n",
       "      <td>2017-09-16 03:59</td>\n",
       "      <td>FM-16</td>\n",
       "      <td>CLR:00</td>\n",
       "      <td>2.50</td>\n",
       "      <td>BR:1 ||</td>\n",
       "      <td>...</td>\n",
       "      <td>-9999</td>\n",
       "      <td>NaN</td>\n",
       "      <td>-9999</td>\n",
       "      <td>-9999</td>\n",
       "      <td>NaN</td>\n",
       "      <td>NaN</td>\n",
       "      <td>NaN</td>\n",
       "      <td>NaN</td>\n",
       "      <td>NaN</td>\n",
       "      <td>NaN</td>\n",
       "    </tr>\n",
       "  </tbody>\n",
       "</table>\n",
       "<p>5 rows × 90 columns</p>\n",
       "</div>"
      ],
      "text/plain": [
       "      STATION                STATION_NAME  ELEVATION  LATITUDE  LONGITUDE  \\\n",
       "0  WBAN:94728  NY CITY CENTRAL PARK NY US       42.7  40.77898  -73.96925   \n",
       "1  WBAN:94728  NY CITY CENTRAL PARK NY US       42.7  40.77898  -73.96925   \n",
       "2  WBAN:94728  NY CITY CENTRAL PARK NY US       42.7  40.77898  -73.96925   \n",
       "3  WBAN:94728  NY CITY CENTRAL PARK NY US       42.7  40.77898  -73.96925   \n",
       "4  WBAN:94728  NY CITY CENTRAL PARK NY US       42.7  40.77898  -73.96925   \n",
       "\n",
       "               DATE REPORTTPYE HOURLYSKYCONDITIONS HOURLYVISIBILITY  \\\n",
       "0  2017-09-16 00:51      FM-15              CLR:00             7.00   \n",
       "1  2017-09-16 01:51      FM-15              CLR:00             6.00   \n",
       "2  2017-09-16 02:51      FM-15              CLR:00             4.00   \n",
       "3  2017-09-16 03:51      FM-15              CLR:00             3.00   \n",
       "4  2017-09-16 03:59      FM-16              CLR:00             2.50   \n",
       "\n",
       "  HOURLYPRSENTWEATHERTYPE                ...                  \\\n",
       "0                     NaN                ...                   \n",
       "1                 BR:1 ||                ...                   \n",
       "2                 BR:1 ||                ...                   \n",
       "3                 BR:1 ||                ...                   \n",
       "4                 BR:1 ||                ...                   \n",
       "\n",
       "  MonthlyMaxSeaLevelPressureTime MonthlyMinSeaLevelPressureValue  \\\n",
       "0                          -9999                             NaN   \n",
       "1                          -9999                             NaN   \n",
       "2                          -9999                             NaN   \n",
       "3                          -9999                             NaN   \n",
       "4                          -9999                             NaN   \n",
       "\n",
       "   MonthlyMinSeaLevelPressureDate  MonthlyMinSeaLevelPressureTime  \\\n",
       "0                           -9999                           -9999   \n",
       "1                           -9999                           -9999   \n",
       "2                           -9999                           -9999   \n",
       "3                           -9999                           -9999   \n",
       "4                           -9999                           -9999   \n",
       "\n",
       "   MonthlyTotalHeatingDegreeDays  MonthlyTotalCoolingDegreeDays  \\\n",
       "0                            NaN                            NaN   \n",
       "1                            NaN                            NaN   \n",
       "2                            NaN                            NaN   \n",
       "3                            NaN                            NaN   \n",
       "4                            NaN                            NaN   \n",
       "\n",
       "   MonthlyDeptFromNormalHeatingDD  MonthlyDeptFromNormalCoolingDD  \\\n",
       "0                             NaN                             NaN   \n",
       "1                             NaN                             NaN   \n",
       "2                             NaN                             NaN   \n",
       "3                             NaN                             NaN   \n",
       "4                             NaN                             NaN   \n",
       "\n",
       "  MonthlyTotalSeasonToDateHeatingDD  MonthlyTotalSeasonToDateCoolingDD  \n",
       "0                               NaN                                NaN  \n",
       "1                               NaN                                NaN  \n",
       "2                               NaN                                NaN  \n",
       "3                               NaN                                NaN  \n",
       "4                               NaN                                NaN  \n",
       "\n",
       "[5 rows x 90 columns]"
      ]
     },
     "execution_count": 3,
     "metadata": {},
     "output_type": "execute_result"
    }
   ],
   "source": [
    "df.head()"
   ]
  },
  {
   "cell_type": "code",
   "execution_count": 4,
   "metadata": {},
   "outputs": [
    {
     "data": {
      "text/plain": [
       "(11959, 90)"
      ]
     },
     "execution_count": 4,
     "metadata": {},
     "output_type": "execute_result"
    }
   ],
   "source": [
    "df.shape"
   ]
  },
  {
   "cell_type": "code",
   "execution_count": 5,
   "metadata": {},
   "outputs": [
    {
     "data": {
      "text/plain": [
       "Index(['STATION', 'STATION_NAME', 'ELEVATION', 'LATITUDE', 'LONGITUDE', 'DATE',\n",
       "       'REPORTTPYE', 'HOURLYSKYCONDITIONS', 'HOURLYVISIBILITY',\n",
       "       'HOURLYPRSENTWEATHERTYPE', 'HOURLYDRYBULBTEMPF', 'HOURLYDRYBULBTEMPC',\n",
       "       'HOURLYWETBULBTEMPF', 'HOURLYWETBULBTEMPC', 'HOURLYDewPointTempF',\n",
       "       'HOURLYDewPointTempC', 'HOURLYRelativeHumidity', 'HOURLYWindSpeed',\n",
       "       'HOURLYWindDirection', 'HOURLYWindGustSpeed', 'HOURLYStationPressure',\n",
       "       'HOURLYPressureTendency', 'HOURLYPressureChange',\n",
       "       'HOURLYSeaLevelPressure', 'HOURLYPrecip', 'HOURLYAltimeterSetting',\n",
       "       'DAILYMaximumDryBulbTemp', 'DAILYMinimumDryBulbTemp',\n",
       "       'DAILYAverageDryBulbTemp', 'DAILYDeptFromNormalAverageTemp',\n",
       "       'DAILYAverageRelativeHumidity', 'DAILYAverageDewPointTemp',\n",
       "       'DAILYAverageWetBulbTemp', 'DAILYHeatingDegreeDays',\n",
       "       'DAILYCoolingDegreeDays', 'DAILYSunrise', 'DAILYSunset', 'DAILYWeather',\n",
       "       'DAILYPrecip', 'DAILYSnowfall', 'DAILYSnowDepth',\n",
       "       'DAILYAverageStationPressure', 'DAILYAverageSeaLevelPressure',\n",
       "       'DAILYAverageWindSpeed', 'DAILYPeakWindSpeed', 'PeakWindDirection',\n",
       "       'DAILYSustainedWindSpeed', 'DAILYSustainedWindDirection',\n",
       "       'MonthlyMaximumTemp', 'MonthlyMinimumTemp', 'MonthlyMeanTemp',\n",
       "       'MonthlyAverageRH', 'MonthlyDewpointTemp', 'MonthlyWetBulbTemp',\n",
       "       'MonthlyAvgHeatingDegreeDays', 'MonthlyAvgCoolingDegreeDays',\n",
       "       'MonthlyStationPressure', 'MonthlySeaLevelPressure',\n",
       "       'MonthlyAverageWindSpeed', 'MonthlyTotalSnowfall',\n",
       "       'MonthlyDeptFromNormalMaximumTemp', 'MonthlyDeptFromNormalMinimumTemp',\n",
       "       'MonthlyDeptFromNormalAverageTemp', 'MonthlyDeptFromNormalPrecip',\n",
       "       'MonthlyTotalLiquidPrecip', 'MonthlyGreatestPrecip',\n",
       "       'MonthlyGreatestPrecipDate', 'MonthlyGreatestSnowfall',\n",
       "       'MonthlyGreatestSnowfallDate', 'MonthlyGreatestSnowDepth',\n",
       "       'MonthlyGreatestSnowDepthDate', 'MonthlyDaysWithGT90Temp',\n",
       "       'MonthlyDaysWithLT32Temp', 'MonthlyDaysWithGT32Temp',\n",
       "       'MonthlyDaysWithLT0Temp', 'MonthlyDaysWithGT001Precip',\n",
       "       'MonthlyDaysWithGT010Precip', 'MonthlyDaysWithGT1Snow',\n",
       "       'MonthlyMaxSeaLevelPressureValue', 'MonthlyMaxSeaLevelPressureDate',\n",
       "       'MonthlyMaxSeaLevelPressureTime', 'MonthlyMinSeaLevelPressureValue',\n",
       "       'MonthlyMinSeaLevelPressureDate', 'MonthlyMinSeaLevelPressureTime',\n",
       "       'MonthlyTotalHeatingDegreeDays', 'MonthlyTotalCoolingDegreeDays',\n",
       "       'MonthlyDeptFromNormalHeatingDD', 'MonthlyDeptFromNormalCoolingDD',\n",
       "       'MonthlyTotalSeasonToDateHeatingDD',\n",
       "       'MonthlyTotalSeasonToDateCoolingDD'],\n",
       "      dtype='object')"
      ]
     },
     "execution_count": 5,
     "metadata": {},
     "output_type": "execute_result"
    }
   ],
   "source": [
    "df.columns"
   ]
  },
  {
   "cell_type": "markdown",
   "metadata": {},
   "source": [
    "All data is, by design, from the Central Park station  \n",
    "**Ideas**  \n",
    "Cloud cover sunlight/present weather  \n",
    "Could I do something neat with wind direction and speed? Some kind of cartesian coordinates with vectors for wind?  \n",
    "Could choose daily data if hourly is too cluttered. Choose daily or monthly if displaying muliple years' worth of data"
   ]
  },
  {
   "cell_type": "code",
   "execution_count": 6,
   "metadata": {},
   "outputs": [],
   "source": [
    "columns_keep = ['DATE', 'HOURLYSKYCONDITIONS', 'HOURLYVISIBILITY', 'HOURLYPRSENTWEATHERTYPE', 'HOURLYRelativeHumidity', 'HOURLYWindSpeed', 'HOURLYWindDirection',\n",
    "               'HOURLYWindGustSpeed', 'HOURLYPrecip', 'DAILYSunrise', 'DAILYSunset', 'DAILYWeather', 'DAILYPrecip', 'DAILYSnowfall']"
   ]
  },
  {
   "cell_type": "code",
   "execution_count": 7,
   "metadata": {},
   "outputs": [],
   "source": [
    "df_thin = df[columns_keep]"
   ]
  },
  {
   "cell_type": "code",
   "execution_count": 8,
   "metadata": {},
   "outputs": [
    {
     "data": {
      "text/html": [
       "<div>\n",
       "<style scoped>\n",
       "    .dataframe tbody tr th:only-of-type {\n",
       "        vertical-align: middle;\n",
       "    }\n",
       "\n",
       "    .dataframe tbody tr th {\n",
       "        vertical-align: top;\n",
       "    }\n",
       "\n",
       "    .dataframe thead th {\n",
       "        text-align: right;\n",
       "    }\n",
       "</style>\n",
       "<table border=\"1\" class=\"dataframe\">\n",
       "  <thead>\n",
       "    <tr style=\"text-align: right;\">\n",
       "      <th></th>\n",
       "      <th>DATE</th>\n",
       "      <th>HOURLYSKYCONDITIONS</th>\n",
       "      <th>HOURLYVISIBILITY</th>\n",
       "      <th>HOURLYPRSENTWEATHERTYPE</th>\n",
       "      <th>HOURLYRelativeHumidity</th>\n",
       "      <th>HOURLYWindSpeed</th>\n",
       "      <th>HOURLYWindDirection</th>\n",
       "      <th>HOURLYWindGustSpeed</th>\n",
       "      <th>HOURLYPrecip</th>\n",
       "      <th>DAILYSunrise</th>\n",
       "      <th>DAILYSunset</th>\n",
       "      <th>DAILYWeather</th>\n",
       "      <th>DAILYPrecip</th>\n",
       "      <th>DAILYSnowfall</th>\n",
       "    </tr>\n",
       "  </thead>\n",
       "  <tbody>\n",
       "    <tr>\n",
       "      <th>0</th>\n",
       "      <td>2017-09-16 00:51</td>\n",
       "      <td>CLR:00</td>\n",
       "      <td>7.00</td>\n",
       "      <td>NaN</td>\n",
       "      <td>87.0</td>\n",
       "      <td>0.0</td>\n",
       "      <td>000</td>\n",
       "      <td>NaN</td>\n",
       "      <td>NaN</td>\n",
       "      <td>537</td>\n",
       "      <td>1804</td>\n",
       "      <td>NaN</td>\n",
       "      <td>NaN</td>\n",
       "      <td>NaN</td>\n",
       "    </tr>\n",
       "    <tr>\n",
       "      <th>1</th>\n",
       "      <td>2017-09-16 01:51</td>\n",
       "      <td>CLR:00</td>\n",
       "      <td>6.00</td>\n",
       "      <td>BR:1 ||</td>\n",
       "      <td>90.0</td>\n",
       "      <td>0.0</td>\n",
       "      <td>000</td>\n",
       "      <td>NaN</td>\n",
       "      <td>0.00</td>\n",
       "      <td>537</td>\n",
       "      <td>1804</td>\n",
       "      <td>NaN</td>\n",
       "      <td>NaN</td>\n",
       "      <td>NaN</td>\n",
       "    </tr>\n",
       "    <tr>\n",
       "      <th>2</th>\n",
       "      <td>2017-09-16 02:51</td>\n",
       "      <td>CLR:00</td>\n",
       "      <td>4.00</td>\n",
       "      <td>BR:1 ||</td>\n",
       "      <td>90.0</td>\n",
       "      <td>3.0</td>\n",
       "      <td>040</td>\n",
       "      <td>NaN</td>\n",
       "      <td>0.00</td>\n",
       "      <td>537</td>\n",
       "      <td>1804</td>\n",
       "      <td>NaN</td>\n",
       "      <td>NaN</td>\n",
       "      <td>NaN</td>\n",
       "    </tr>\n",
       "    <tr>\n",
       "      <th>3</th>\n",
       "      <td>2017-09-16 03:51</td>\n",
       "      <td>CLR:00</td>\n",
       "      <td>3.00</td>\n",
       "      <td>BR:1 ||</td>\n",
       "      <td>93.0</td>\n",
       "      <td>3.0</td>\n",
       "      <td>050</td>\n",
       "      <td>NaN</td>\n",
       "      <td>0.00</td>\n",
       "      <td>537</td>\n",
       "      <td>1804</td>\n",
       "      <td>NaN</td>\n",
       "      <td>NaN</td>\n",
       "      <td>NaN</td>\n",
       "    </tr>\n",
       "    <tr>\n",
       "      <th>4</th>\n",
       "      <td>2017-09-16 03:59</td>\n",
       "      <td>CLR:00</td>\n",
       "      <td>2.50</td>\n",
       "      <td>BR:1 ||</td>\n",
       "      <td>93.0</td>\n",
       "      <td>0.0</td>\n",
       "      <td>000</td>\n",
       "      <td>NaN</td>\n",
       "      <td>NaN</td>\n",
       "      <td>537</td>\n",
       "      <td>1804</td>\n",
       "      <td>NaN</td>\n",
       "      <td>NaN</td>\n",
       "      <td>NaN</td>\n",
       "    </tr>\n",
       "  </tbody>\n",
       "</table>\n",
       "</div>"
      ],
      "text/plain": [
       "               DATE HOURLYSKYCONDITIONS HOURLYVISIBILITY  \\\n",
       "0  2017-09-16 00:51              CLR:00             7.00   \n",
       "1  2017-09-16 01:51              CLR:00             6.00   \n",
       "2  2017-09-16 02:51              CLR:00             4.00   \n",
       "3  2017-09-16 03:51              CLR:00             3.00   \n",
       "4  2017-09-16 03:59              CLR:00             2.50   \n",
       "\n",
       "  HOURLYPRSENTWEATHERTYPE  HOURLYRelativeHumidity  HOURLYWindSpeed  \\\n",
       "0                     NaN                    87.0              0.0   \n",
       "1                 BR:1 ||                    90.0              0.0   \n",
       "2                 BR:1 ||                    90.0              3.0   \n",
       "3                 BR:1 ||                    93.0              3.0   \n",
       "4                 BR:1 ||                    93.0              0.0   \n",
       "\n",
       "  HOURLYWindDirection  HOURLYWindGustSpeed HOURLYPrecip  DAILYSunrise  \\\n",
       "0                 000                  NaN          NaN           537   \n",
       "1                 000                  NaN         0.00           537   \n",
       "2                 040                  NaN         0.00           537   \n",
       "3                 050                  NaN         0.00           537   \n",
       "4                 000                  NaN          NaN           537   \n",
       "\n",
       "   DAILYSunset DAILYWeather DAILYPrecip DAILYSnowfall  \n",
       "0         1804          NaN         NaN           NaN  \n",
       "1         1804          NaN         NaN           NaN  \n",
       "2         1804          NaN         NaN           NaN  \n",
       "3         1804          NaN         NaN           NaN  \n",
       "4         1804          NaN         NaN           NaN  "
      ]
     },
     "execution_count": 8,
     "metadata": {},
     "output_type": "execute_result"
    }
   ],
   "source": [
    "df_thin.head()"
   ]
  },
  {
   "cell_type": "markdown",
   "metadata": {},
   "source": [
    "Missing data"
   ]
  },
  {
   "cell_type": "code",
   "execution_count": 9,
   "metadata": {},
   "outputs": [
    {
     "data": {
      "text/plain": [
       "DATE                           0\n",
       "HOURLYSKYCONDITIONS          393\n",
       "HOURLYVISIBILITY             364\n",
       "HOURLYPRSENTWEATHERTYPE     8792\n",
       "HOURLYRelativeHumidity       362\n",
       "HOURLYWindSpeed             1147\n",
       "HOURLYWindDirection         1149\n",
       "HOURLYWindGustSpeed        10162\n",
       "HOURLYPrecip                1973\n",
       "DAILYSunrise                   0\n",
       "DAILYSunset                    0\n",
       "DAILYWeather               11762\n",
       "DAILYPrecip                11447\n",
       "DAILYSnowfall              11595\n",
       "dtype: int64"
      ]
     },
     "execution_count": 9,
     "metadata": {},
     "output_type": "execute_result"
    }
   ],
   "source": [
    "df_thin.isna().sum()"
   ]
  },
  {
   "cell_type": "markdown",
   "metadata": {},
   "source": [
    "Available Data"
   ]
  },
  {
   "cell_type": "code",
   "execution_count": 10,
   "metadata": {},
   "outputs": [
    {
     "data": {
      "text/plain": [
       "DATE                       11959\n",
       "HOURLYSKYCONDITIONS        11566\n",
       "HOURLYVISIBILITY           11595\n",
       "HOURLYPRSENTWEATHERTYPE     3167\n",
       "HOURLYRelativeHumidity     11597\n",
       "HOURLYWindSpeed            10812\n",
       "HOURLYWindDirection        10810\n",
       "HOURLYWindGustSpeed         1797\n",
       "HOURLYPrecip                9986\n",
       "DAILYSunrise               11959\n",
       "DAILYSunset                11959\n",
       "DAILYWeather                 197\n",
       "DAILYPrecip                  512\n",
       "DAILYSnowfall                364\n",
       "dtype: int64"
      ]
     },
     "execution_count": 10,
     "metadata": {},
     "output_type": "execute_result"
    }
   ],
   "source": [
    "df_thin.shape[0] - df_thin.isna().sum()"
   ]
  },
  {
   "cell_type": "markdown",
   "metadata": {},
   "source": [
    "Drop daily values for now"
   ]
  },
  {
   "cell_type": "code",
   "execution_count": 11,
   "metadata": {},
   "outputs": [],
   "source": [
    "df_skinny = df_thin.drop(['DAILYWeather', 'DAILYPrecip', 'DAILYSnowfall'], axis=1)"
   ]
  },
  {
   "cell_type": "code",
   "execution_count": 12,
   "metadata": {},
   "outputs": [
    {
     "data": {
      "text/plain": [
       "DATE                       11959\n",
       "HOURLYSKYCONDITIONS        11566\n",
       "HOURLYVISIBILITY           11595\n",
       "HOURLYPRSENTWEATHERTYPE     3167\n",
       "HOURLYRelativeHumidity     11597\n",
       "HOURLYWindSpeed            10812\n",
       "HOURLYWindDirection        10810\n",
       "HOURLYWindGustSpeed         1797\n",
       "HOURLYPrecip                9986\n",
       "DAILYSunrise               11959\n",
       "DAILYSunset                11959\n",
       "dtype: int64"
      ]
     },
     "execution_count": 12,
     "metadata": {},
     "output_type": "execute_result"
    }
   ],
   "source": [
    "df_skinny.shape[0] - df_skinny.isna().sum()"
   ]
  },
  {
   "cell_type": "markdown",
   "metadata": {},
   "source": [
    "Create features for DATE parts"
   ]
  },
  {
   "cell_type": "code",
   "execution_count": 13,
   "metadata": {},
   "outputs": [
    {
     "data": {
      "text/plain": [
       "0    2017-09-16 00:51\n",
       "1    2017-09-16 01:51\n",
       "2    2017-09-16 02:51\n",
       "3    2017-09-16 03:51\n",
       "4    2017-09-16 03:59\n",
       "Name: DATE, dtype: object"
      ]
     },
     "execution_count": 13,
     "metadata": {},
     "output_type": "execute_result"
    }
   ],
   "source": [
    "df_skinny['DATE'].head()"
   ]
  },
  {
   "cell_type": "code",
   "execution_count": 14,
   "metadata": {},
   "outputs": [],
   "source": [
    "def get_year(row): # Get the year from DATE column\n",
    "    return int(row[:4])\n",
    "df_skinny['Year'] = df_skinny['DATE'].apply(get_year)"
   ]
  },
  {
   "cell_type": "code",
   "execution_count": 15,
   "metadata": {},
   "outputs": [],
   "source": [
    "def get_month(row): # Get the month from DATE column\n",
    "    return int(row[5:7])\n",
    "df_skinny['Month'] = df_skinny['DATE'].apply(get_month)"
   ]
  },
  {
   "cell_type": "code",
   "execution_count": 16,
   "metadata": {},
   "outputs": [],
   "source": [
    "def get_day(row): # Get the day from DATE column\n",
    "    return int(row[8:10])\n",
    "df_skinny['Day'] = df_skinny['DATE'].apply(get_day)"
   ]
  },
  {
   "cell_type": "code",
   "execution_count": 17,
   "metadata": {},
   "outputs": [],
   "source": [
    "def get_hour(row): # Get the hour from DATE column\n",
    "    return int(row[11:13])\n",
    "df_skinny['Hour'] = df_skinny['DATE'].apply(get_hour)"
   ]
  },
  {
   "cell_type": "markdown",
   "metadata": {},
   "source": [
    "Create matching features for sunrise and sunset"
   ]
  },
  {
   "cell_type": "code",
   "execution_count": 18,
   "metadata": {},
   "outputs": [],
   "source": [
    "df_skinny['SunriseHour'] = df_skinny['DAILYSunrise'] // 100"
   ]
  },
  {
   "cell_type": "code",
   "execution_count": 19,
   "metadata": {},
   "outputs": [],
   "source": [
    "df_skinny['SunriseMin'] = df_skinny['DAILYSunrise'] % 100"
   ]
  },
  {
   "cell_type": "code",
   "execution_count": 20,
   "metadata": {},
   "outputs": [],
   "source": [
    "df_skinny['SunsetHour'] = df_skinny['DAILYSunset'] // 100"
   ]
  },
  {
   "cell_type": "code",
   "execution_count": 21,
   "metadata": {},
   "outputs": [],
   "source": [
    "df_skinny['SunsetMin'] = df_skinny['DAILYSunset'] % 100"
   ]
  },
  {
   "cell_type": "code",
   "execution_count": 22,
   "metadata": {},
   "outputs": [
    {
     "data": {
      "text/plain": [
       "0    CLR:00\n",
       "1    CLR:00\n",
       "2    CLR:00\n",
       "3    CLR:00\n",
       "4    CLR:00\n",
       "Name: HOURLYSKYCONDITIONS, dtype: object"
      ]
     },
     "execution_count": 22,
     "metadata": {},
     "output_type": "execute_result"
    }
   ],
   "source": [
    "df_skinny['HOURLYSKYCONDITIONS'].head()"
   ]
  },
  {
   "cell_type": "code",
   "execution_count": 23,
   "metadata": {},
   "outputs": [],
   "source": [
    "def get_weather_type(row): #Get the weather type from HOURLYSKYCONDITIONS column\n",
    "    if type(row) == str:\n",
    "        search = re.findall(r'([A-Z]*)', row)\n",
    "        return search[0]\n",
    "    else:\n",
    "        return 'NaN'"
   ]
  },
  {
   "cell_type": "code",
   "execution_count": 24,
   "metadata": {},
   "outputs": [],
   "source": [
    "df_skinny['HourlySkyWeather'] = df_skinny['HOURLYSKYCONDITIONS'].apply(get_weather_type)"
   ]
  },
  {
   "cell_type": "code",
   "execution_count": 25,
   "metadata": {},
   "outputs": [
    {
     "data": {
      "text/plain": [
       "0    CLR\n",
       "1    CLR\n",
       "2    CLR\n",
       "3    CLR\n",
       "4    CLR\n",
       "Name: HourlySkyWeather, dtype: object"
      ]
     },
     "execution_count": 25,
     "metadata": {},
     "output_type": "execute_result"
    }
   ],
   "source": [
    "df_skinny['HourlySkyWeather'].head()"
   ]
  },
  {
   "cell_type": "code",
   "execution_count": 26,
   "metadata": {},
   "outputs": [
    {
     "data": {
      "text/plain": [
       "{'BKN', 'CLR', 'FEW', 'NaN', 'OVC', 'SCT', 'VV'}"
      ]
     },
     "execution_count": 26,
     "metadata": {},
     "output_type": "execute_result"
    }
   ],
   "source": [
    "set(df_skinny['HourlySkyWeather'])"
   ]
  },
  {
   "cell_type": "markdown",
   "metadata": {},
   "source": [
    "'10' which was supposed to denote partly cloudy, does that entry exist in the original feature? No"
   ]
  },
  {
   "cell_type": "code",
   "execution_count": 27,
   "metadata": {},
   "outputs": [
    {
     "data": {
      "text/plain": [
       "Series([], Name: HOURLYSKYCONDITIONS, dtype: object)"
      ]
     },
     "execution_count": 27,
     "metadata": {},
     "output_type": "execute_result"
    }
   ],
   "source": [
    "df_skinny['HOURLYSKYCONDITIONS'][df_skinny['HOURLYSKYCONDITIONS'].str.startswith('10', na=False)]"
   ]
  },
  {
   "cell_type": "markdown",
   "metadata": {},
   "source": [
    "Could try to extract all weather types from HOURLYSKYCONDITIONS, but hold off until after looking at HOURLYPRSENTWEATHERTYPE"
   ]
  },
  {
   "cell_type": "code",
   "execution_count": 28,
   "metadata": {},
   "outputs": [
    {
     "data": {
      "text/plain": [
       "count     11595\n",
       "unique       25\n",
       "top       10.00\n",
       "freq       7305\n",
       "Name: HOURLYVISIBILITY, dtype: object"
      ]
     },
     "execution_count": 28,
     "metadata": {},
     "output_type": "execute_result"
    }
   ],
   "source": [
    "df_skinny['HOURLYVISIBILITY'].describe()"
   ]
  },
  {
   "cell_type": "code",
   "execution_count": 29,
   "metadata": {},
   "outputs": [
    {
     "data": {
      "text/plain": [
       "{'0.00',\n",
       " '0.25',\n",
       " '0.50',\n",
       " '0.75',\n",
       " '0.75V',\n",
       " '1.00',\n",
       " '1.00V',\n",
       " '1.25',\n",
       " '1.25V',\n",
       " '1.50',\n",
       " '1.50V',\n",
       " '1.75',\n",
       " '1.75V',\n",
       " '10.00',\n",
       " '2.00',\n",
       " '2.00V',\n",
       " '2.50',\n",
       " '2.50V',\n",
       " '3.00',\n",
       " '4.00',\n",
       " '5.00',\n",
       " '6.00',\n",
       " '7.00',\n",
       " '8.00',\n",
       " '9.00',\n",
       " nan}"
      ]
     },
     "execution_count": 29,
     "metadata": {},
     "output_type": "execute_result"
    }
   ],
   "source": [
    "set(df_skinny['HOURLYVISIBILITY'])"
   ]
  },
  {
   "cell_type": "markdown",
   "metadata": {},
   "source": [
    "Remove the trailing V because the documentation does not provide a justification for it"
   ]
  },
  {
   "cell_type": "code",
   "execution_count": 30,
   "metadata": {},
   "outputs": [],
   "source": [
    "def get_visibility(row): # Create tidy hourly visibility feature\n",
    "    if type(row) == str:\n",
    "        search = re.search(r'[0-9\\.]*', row)\n",
    "        return float(search[0])\n",
    "    else:\n",
    "        return 'NaN'"
   ]
  },
  {
   "cell_type": "code",
   "execution_count": 31,
   "metadata": {},
   "outputs": [],
   "source": [
    "df_skinny['HourlyVisibility'] = df_skinny['HOURLYVISIBILITY'].apply(get_visibility)"
   ]
  },
  {
   "cell_type": "code",
   "execution_count": 32,
   "metadata": {},
   "outputs": [
    {
     "data": {
      "text/plain": [
       "{0.0,\n",
       " 0.25,\n",
       " 0.5,\n",
       " 0.75,\n",
       " 1.0,\n",
       " 1.25,\n",
       " 1.5,\n",
       " 1.75,\n",
       " 10.0,\n",
       " 2.0,\n",
       " 2.5,\n",
       " 3.0,\n",
       " 4.0,\n",
       " 5.0,\n",
       " 6.0,\n",
       " 7.0,\n",
       " 8.0,\n",
       " 9.0,\n",
       " 'NaN'}"
      ]
     },
     "execution_count": 32,
     "metadata": {},
     "output_type": "execute_result"
    }
   ],
   "source": [
    "set(df_skinny['HourlyVisibility'])"
   ]
  },
  {
   "cell_type": "code",
   "execution_count": 33,
   "metadata": {},
   "outputs": [
    {
     "data": {
      "text/plain": [
       "count        3167\n",
       "unique         37\n",
       "top       BR:1 ||\n",
       "freq         1035\n",
       "Name: HOURLYPRSENTWEATHERTYPE, dtype: object"
      ]
     },
     "execution_count": 33,
     "metadata": {},
     "output_type": "execute_result"
    }
   ],
   "source": [
    "df_skinny['HOURLYPRSENTWEATHERTYPE'].describe()"
   ]
  },
  {
   "cell_type": "markdown",
   "metadata": {},
   "source": [
    "HOURLYPRSENTWEATHERTYPE is formatted as AU|AW|MW where AU and AW are automatic weather type measurements and MW is a manual measurement"
   ]
  },
  {
   "cell_type": "code",
   "execution_count": 34,
   "metadata": {},
   "outputs": [
    {
     "data": {
      "text/plain": [
       "{'+RA:02 BR:1 |RA:63 |',\n",
       " '+RA:02 BR:1 |RA:63 |RA:63',\n",
       " '+RA:02 FG:2 |FG:30 RA:63 |',\n",
       " '+RA:02 FG:2 |FG:30 RA:63 |RA:63',\n",
       " '+RA:02 |RA:63 |',\n",
       " '+RA:02 |RA:63 |RA:63',\n",
       " '+SN:03 FG:2 |FG:30 SN:73 |',\n",
       " '+SN:03 FZ:8 FG:2 |FG:35 SN:73 |',\n",
       " '-FZ:8 RA:02 BR:1 |FZRA:64 |',\n",
       " '-RA:02 BR:1 |RA:61 |',\n",
       " '-RA:02 BR:1 |RA:61 |RA:61',\n",
       " '-RA:02 FG:2 |FG:30 RA:61 |RA:61',\n",
       " '-RA:02 |RA:61 |',\n",
       " '-RA:02 |RA:61 |RA:61',\n",
       " '-RA:02 ||',\n",
       " '-SN:03 BR:1 |SN:71 |',\n",
       " '-SN:03 FZ:8 FG:2 |FG:35 SN:71 |',\n",
       " '-SN:03 |SN:71 |',\n",
       " 'BR:1 ||',\n",
       " 'FG:2 |FG:30 |',\n",
       " 'FZ:8 RA:02 BR:1 |FZRA:65 |',\n",
       " 'HZ:7 |FU:05 |HZ:05',\n",
       " 'HZ:7 ||HZ:05',\n",
       " 'RA:02 BR:1 |RA:62 |',\n",
       " 'RA:02 BR:1 |RA:62 |RA:65',\n",
       " 'RA:02 FG:2 |FG:30 RA:62 |RA:65',\n",
       " 'RA:02 |RA:62 s |RA:65 s',\n",
       " 'RA:02 |RA:62 |',\n",
       " 'RA:02 |RA:62 |RA:65',\n",
       " 'SN:03 FG:2 |FG:30 SN:72 |',\n",
       " 'SN:03 FZ:8 FG:2 |FG:35 SN:72 |',\n",
       " 'SN:03 |SN:72 s |',\n",
       " 'UP:09 BR:1 ||',\n",
       " 'UP:09 ||',\n",
       " nan,\n",
       " '|RA:61 |',\n",
       " '|RA:61 |RA:61',\n",
       " '|SN:71 |'}"
      ]
     },
     "execution_count": 34,
     "metadata": {},
     "output_type": "execute_result"
    }
   ],
   "source": [
    "set(df_skinny['HOURLYPRSENTWEATHERTYPE'])"
   ]
  },
  {
   "cell_type": "markdown",
   "metadata": {},
   "source": [
    "Test regex"
   ]
  },
  {
   "cell_type": "code",
   "execution_count": 35,
   "metadata": {},
   "outputs": [
    {
     "data": {
      "text/plain": [
       "['SN:03 FZ:8 FG:2 ', 'FG:35 SN:72 ', '']"
      ]
     },
     "execution_count": 35,
     "metadata": {},
     "output_type": "execute_result"
    }
   ],
   "source": [
    "string = 'SN:03 FZ:8 FG:2 |FG:35 SN:72 |'\n",
    "re.split(r'\\|', string)"
   ]
  },
  {
   "cell_type": "code",
   "execution_count": 36,
   "metadata": {},
   "outputs": [],
   "source": [
    "def get_AU_weather(row): # Get the AU weather measurement\n",
    "    if type(row) == str:\n",
    "        search = re.split(r'\\|', row)\n",
    "        return search[0]\n",
    "    else:\n",
    "        return 'NaN'\n",
    "def get_AW_weather(row): # Get the AW weather measurement\n",
    "    if type(row) == str:\n",
    "        search = re.split(r'\\|', row)\n",
    "        return search[1]\n",
    "    else:\n",
    "        return 'NaN'\n",
    "def get_MW_weather(row): # Get the AU weather measurement\n",
    "    if type(row) == str:\n",
    "        search = re.split(r'\\|', row)\n",
    "        return search[2]\n",
    "    else:\n",
    "        return 'NaN'"
   ]
  },
  {
   "cell_type": "code",
   "execution_count": 37,
   "metadata": {},
   "outputs": [],
   "source": [
    "df_skinny['AUWeather'] = df_skinny['HOURLYPRSENTWEATHERTYPE'].apply(get_AU_weather)\n",
    "df_skinny['AWWeather'] = df_skinny['HOURLYPRSENTWEATHERTYPE'].apply(get_AW_weather)\n",
    "df_skinny['MWWeather'] = df_skinny['HOURLYPRSENTWEATHERTYPE'].apply(get_MW_weather)"
   ]
  },
  {
   "cell_type": "code",
   "execution_count": 38,
   "metadata": {},
   "outputs": [
    {
     "data": {
      "text/plain": [
       "{'',\n",
       " '+RA:02 ',\n",
       " '+RA:02 BR:1 ',\n",
       " '+RA:02 FG:2 ',\n",
       " '+SN:03 FG:2 ',\n",
       " '+SN:03 FZ:8 FG:2 ',\n",
       " '-FZ:8 RA:02 BR:1 ',\n",
       " '-RA:02 ',\n",
       " '-RA:02 BR:1 ',\n",
       " '-RA:02 FG:2 ',\n",
       " '-SN:03 ',\n",
       " '-SN:03 BR:1 ',\n",
       " '-SN:03 FZ:8 FG:2 ',\n",
       " 'BR:1 ',\n",
       " 'FG:2 ',\n",
       " 'FZ:8 RA:02 BR:1 ',\n",
       " 'HZ:7 ',\n",
       " 'NaN',\n",
       " 'RA:02 ',\n",
       " 'RA:02 BR:1 ',\n",
       " 'RA:02 FG:2 ',\n",
       " 'SN:03 ',\n",
       " 'SN:03 FG:2 ',\n",
       " 'SN:03 FZ:8 FG:2 ',\n",
       " 'UP:09 ',\n",
       " 'UP:09 BR:1 '}"
      ]
     },
     "execution_count": 38,
     "metadata": {},
     "output_type": "execute_result"
    }
   ],
   "source": [
    "set(df_skinny['AUWeather'])"
   ]
  },
  {
   "cell_type": "markdown",
   "metadata": {},
   "source": [
    "Refine these weather type features if they are to be used"
   ]
  },
  {
   "cell_type": "code",
   "execution_count": 39,
   "metadata": {},
   "outputs": [
    {
     "data": {
      "text/plain": [
       "count    11597.000000\n",
       "mean        70.075278\n",
       "std         20.481264\n",
       "min         12.000000\n",
       "25%         53.000000\n",
       "50%         72.000000\n",
       "75%         90.000000\n",
       "max        100.000000\n",
       "Name: HOURLYRelativeHumidity, dtype: float64"
      ]
     },
     "execution_count": 39,
     "metadata": {},
     "output_type": "execute_result"
    }
   ],
   "source": [
    "df_skinny['HOURLYRelativeHumidity'].describe()"
   ]
  },
  {
   "cell_type": "code",
   "execution_count": 40,
   "metadata": {},
   "outputs": [
    {
     "data": {
      "text/plain": [
       "Text(0.5,1,'Hourly Relative Humidity')"
      ]
     },
     "execution_count": 40,
     "metadata": {},
     "output_type": "execute_result"
    },
    {
     "data": {
      "image/png": "[encoded data removed]",
      "text/plain": [
       "<Figure size 432x288 with 1 Axes>"
      ]
     },
     "metadata": {},
     "output_type": "display_data"
    }
   ],
   "source": [
    "fig = plt.figure()\n",
    "axs = fig.add_subplot(111)\n",
    "axs.hist(df_skinny['HOURLYRelativeHumidity'][df_skinny['HOURLYRelativeHumidity'].isna() == False], bins=25)\n",
    "axs.set_title('Hourly Relative Humidity')"
   ]
  },
  {
   "cell_type": "code",
   "execution_count": 41,
   "metadata": {},
   "outputs": [
    {
     "data": {
      "text/plain": [
       "count    10812.000000\n",
       "mean         4.800499\n",
       "std          3.687856\n",
       "min          0.000000\n",
       "25%          3.000000\n",
       "50%          5.000000\n",
       "75%          7.000000\n",
       "max         21.000000\n",
       "Name: HOURLYWindSpeed, dtype: float64"
      ]
     },
     "execution_count": 41,
     "metadata": {},
     "output_type": "execute_result"
    }
   ],
   "source": [
    "df_skinny['HOURLYWindSpeed'].describe()"
   ]
  },
  {
   "cell_type": "code",
   "execution_count": 42,
   "metadata": {},
   "outputs": [
    {
     "data": {
      "text/plain": [
       "Text(0.5,1,'Hourly Wind Speed')"
      ]
     },
     "execution_count": 42,
     "metadata": {},
     "output_type": "execute_result"
    },
    {
     "data": {
      "image/png": "[encoded data removed]",
      "text/plain": [
       "<Figure size 432x288 with 1 Axes>"
      ]
     },
     "metadata": {},
     "output_type": "display_data"
    }
   ],
   "source": [
    "fig = plt.figure()\n",
    "axs = fig.add_subplot(111)\n",
    "axs.hist(df_skinny['HOURLYWindSpeed'][df_skinny['HOURLYWindSpeed'].isna() == False], bins=30)\n",
    "axs.set_title('Hourly Wind Speed')"
   ]
  },
  {
   "cell_type": "markdown",
   "metadata": {},
   "source": [
    "Indication of rounding for wind speed at low values, eg. at 0, 3, 5 are used in place of 1, 2 and 4"
   ]
  },
  {
   "cell_type": "markdown",
   "metadata": {},
   "source": [
    "Wind direction is given in degrees from true north, with 360 as North and 000 as calm conditions  \n",
    "No explanation in the documentation for VRB, so treat it as a missing value"
   ]
  },
  {
   "cell_type": "code",
   "execution_count": 43,
   "metadata": {},
   "outputs": [
    {
     "data": {
      "text/plain": [
       "count     10810\n",
       "unique       38\n",
       "top         VRB\n",
       "freq       4622\n",
       "Name: HOURLYWindDirection, dtype: object"
      ]
     },
     "execution_count": 43,
     "metadata": {},
     "output_type": "execute_result"
    }
   ],
   "source": [
    "df_skinny['HOURLYWindDirection'].describe()"
   ]
  },
  {
   "cell_type": "code",
   "execution_count": 44,
   "metadata": {},
   "outputs": [
    {
     "data": {
      "text/plain": [
       "{'000',\n",
       " '010',\n",
       " '020',\n",
       " '030',\n",
       " '040',\n",
       " '050',\n",
       " '060',\n",
       " '070',\n",
       " '080',\n",
       " '090',\n",
       " '100',\n",
       " '110',\n",
       " '120',\n",
       " '130',\n",
       " '140',\n",
       " '150',\n",
       " '160',\n",
       " '170',\n",
       " '180',\n",
       " '190',\n",
       " '200',\n",
       " '210',\n",
       " '220',\n",
       " '230',\n",
       " '240',\n",
       " '250',\n",
       " '260',\n",
       " '270',\n",
       " '280',\n",
       " '290',\n",
       " '300',\n",
       " '310',\n",
       " '320',\n",
       " '330',\n",
       " '340',\n",
       " '350',\n",
       " '360',\n",
       " 'VRB',\n",
       " nan}"
      ]
     },
     "execution_count": 44,
     "metadata": {},
     "output_type": "execute_result"
    }
   ],
   "source": [
    "set(df_skinny['HOURLYWindDirection'])"
   ]
  },
  {
   "cell_type": "markdown",
   "metadata": {},
   "source": [
    "Make a numeric feature for Wind Direction"
   ]
  },
  {
   "cell_type": "code",
   "execution_count": 45,
   "metadata": {},
   "outputs": [],
   "source": [
    "def get_numeric_wind(row): # Create a numeric Wind Direction feature and remove VRB encoding\n",
    "    if str(row).isnumeric() == True:\n",
    "        return int(row)\n",
    "    else:\n",
    "        return False"
   ]
  },
  {
   "cell_type": "code",
   "execution_count": 46,
   "metadata": {},
   "outputs": [],
   "source": [
    "df_skinny['HourlyWindDirection'] = df_skinny['HOURLYWindDirection'].apply(get_numeric_wind)"
   ]
  },
  {
   "cell_type": "code",
   "execution_count": 47,
   "metadata": {},
   "outputs": [
    {
     "data": {
      "text/plain": [
       "{0,\n",
       " 10,\n",
       " 20,\n",
       " 30,\n",
       " 40,\n",
       " 50,\n",
       " 60,\n",
       " 70,\n",
       " 80,\n",
       " 90,\n",
       " 100,\n",
       " 110,\n",
       " 120,\n",
       " 130,\n",
       " 140,\n",
       " 150,\n",
       " 160,\n",
       " 170,\n",
       " 180,\n",
       " 190,\n",
       " 200,\n",
       " 210,\n",
       " 220,\n",
       " 230,\n",
       " 240,\n",
       " 250,\n",
       " 260,\n",
       " 270,\n",
       " 280,\n",
       " 290,\n",
       " 300,\n",
       " 310,\n",
       " 320,\n",
       " 330,\n",
       " 340,\n",
       " 350,\n",
       " 360}"
      ]
     },
     "execution_count": 47,
     "metadata": {},
     "output_type": "execute_result"
    }
   ],
   "source": [
    "set(df_skinny['HourlyWindDirection'])"
   ]
  },
  {
   "cell_type": "code",
   "execution_count": 48,
   "metadata": {},
   "outputs": [
    {
     "data": {
      "text/plain": [
       "HourlyWindDirection\n",
       "0      8331\n",
       "10       59\n",
       "20       57\n",
       "30       96\n",
       "40      141\n",
       "50      250\n",
       "60      336\n",
       "70      238\n",
       "80       97\n",
       "90       43\n",
       "100      35\n",
       "110      30\n",
       "120      26\n",
       "130      27\n",
       "140      28\n",
       "150      55\n",
       "160      98\n",
       "170      90\n",
       "180      60\n",
       "190      24\n",
       "200       9\n",
       "210      11\n",
       "220      10\n",
       "230      24\n",
       "240      95\n",
       "250     152\n",
       "260     186\n",
       "270     168\n",
       "280     286\n",
       "290     317\n",
       "300     287\n",
       "310     158\n",
       "320      30\n",
       "330      11\n",
       "340      30\n",
       "350      33\n",
       "360      31\n",
       "Name: DATE, dtype: int64"
      ]
     },
     "execution_count": 48,
     "metadata": {},
     "output_type": "execute_result"
    }
   ],
   "source": [
    "df_skinny['DATE'].groupby(by = df_skinny['HourlyWindDirection']).count()"
   ]
  },
  {
   "cell_type": "code",
   "execution_count": 49,
   "metadata": {},
   "outputs": [
    {
     "data": {
      "text/plain": [
       "HourlyWindDirection\n",
       "0      0.696630\n",
       "10     0.004934\n",
       "20     0.004766\n",
       "30     0.008027\n",
       "40     0.011790\n",
       "50     0.020905\n",
       "60     0.028096\n",
       "70     0.019901\n",
       "80     0.008111\n",
       "90     0.003596\n",
       "100    0.002927\n",
       "110    0.002509\n",
       "120    0.002174\n",
       "130    0.002258\n",
       "140    0.002341\n",
       "150    0.004599\n",
       "160    0.008195\n",
       "170    0.007526\n",
       "180    0.005017\n",
       "190    0.002007\n",
       "200    0.000753\n",
       "210    0.000920\n",
       "220    0.000836\n",
       "230    0.002007\n",
       "240    0.007944\n",
       "250    0.012710\n",
       "260    0.015553\n",
       "270    0.014048\n",
       "280    0.023915\n",
       "290    0.026507\n",
       "300    0.023999\n",
       "310    0.013212\n",
       "320    0.002509\n",
       "330    0.000920\n",
       "340    0.002509\n",
       "350    0.002759\n",
       "360    0.002592\n",
       "Name: DATE, dtype: float64"
      ]
     },
     "execution_count": 49,
     "metadata": {},
     "output_type": "execute_result"
    }
   ],
   "source": [
    "df_skinny['DATE'].groupby(by = df_skinny['HourlyWindDirection']).count() / df_skinny['DATE'][df_skinny['HourlyWindDirection'].isna() == False].count()"
   ]
  },
  {
   "cell_type": "code",
   "execution_count": 50,
   "metadata": {},
   "outputs": [],
   "source": [
    "df_wind = df_skinny['DATE'][df_skinny['HourlyWindDirection'] != 0].groupby(by = df_skinny['HourlyWindDirection']).count() / df_skinny['DATE'][df_skinny['HourlyWindDirection'].isna() == False][df_skinny['HourlyWindDirection'] != 0].count()"
   ]
  },
  {
   "cell_type": "code",
   "execution_count": 51,
   "metadata": {},
   "outputs": [
    {
     "data": {
      "text/plain": [
       "HourlyWindDirection\n",
       "60     0.092613\n",
       "290    0.087376\n",
       "300    0.079107\n",
       "280    0.078831\n",
       "50     0.068908\n",
       "70     0.065601\n",
       "260    0.051268\n",
       "270    0.046307\n",
       "310    0.043550\n",
       "250    0.041896\n",
       "Name: DATE, dtype: float64"
      ]
     },
     "execution_count": 51,
     "metadata": {},
     "output_type": "execute_result"
    }
   ],
   "source": [
    "df_wind.sort_values(ascending = False)[:10]"
   ]
  },
  {
   "cell_type": "markdown",
   "metadata": {},
   "source": [
    "The most frequent nonzero wind direction values belong to east and west directions, ie 50-70 for west and 260-300 for east"
   ]
  },
  {
   "cell_type": "code",
   "execution_count": 52,
   "metadata": {},
   "outputs": [
    {
     "data": {
      "text/plain": [
       "count    10812.000000\n",
       "mean         4.800499\n",
       "std          3.687856\n",
       "min          0.000000\n",
       "25%          3.000000\n",
       "50%          5.000000\n",
       "75%          7.000000\n",
       "max         21.000000\n",
       "Name: HOURLYWindSpeed, dtype: float64"
      ]
     },
     "execution_count": 52,
     "metadata": {},
     "output_type": "execute_result"
    }
   ],
   "source": [
    "df_skinny['HOURLYWindSpeed'].describe()"
   ]
  },
  {
   "cell_type": "code",
   "execution_count": 53,
   "metadata": {},
   "outputs": [
    {
     "data": {
      "text/plain": [
       "Text(0.5,1,'Hourly Wind Speed')"
      ]
     },
     "execution_count": 53,
     "metadata": {},
     "output_type": "execute_result"
    },
    {
     "data": {
      "image/png": "[encoded data removed]",
      "text/plain": [
       "<Figure size 432x288 with 1 Axes>"
      ]
     },
     "metadata": {},
     "output_type": "display_data"
    }
   ],
   "source": [
    "fig = plt.figure()\n",
    "axs = fig.add_subplot(111)\n",
    "axs.hist(df_skinny['HOURLYWindSpeed'][df_skinny['HOURLYWindSpeed'].isna() == False], bins = 30)\n",
    "axs.set_title('Hourly Wind Speed')"
   ]
  },
  {
   "cell_type": "markdown",
   "metadata": {},
   "source": [
    "Again, there is evidence of rounding at low integer values, ie at 0, 3, 5 instead of 1, 2 and 4"
   ]
  },
  {
   "cell_type": "code",
   "execution_count": 54,
   "metadata": {},
   "outputs": [
    {
     "data": {
      "text/plain": [
       "count    1797.000000\n",
       "mean       21.293823\n",
       "std         4.252267\n",
       "min        16.000000\n",
       "25%        18.000000\n",
       "50%        21.000000\n",
       "75%        23.000000\n",
       "max        44.000000\n",
       "Name: HOURLYWindGustSpeed, dtype: float64"
      ]
     },
     "execution_count": 54,
     "metadata": {},
     "output_type": "execute_result"
    }
   ],
   "source": [
    "df_skinny['HOURLYWindGustSpeed'].describe()"
   ]
  },
  {
   "cell_type": "code",
   "execution_count": 55,
   "metadata": {},
   "outputs": [
    {
     "data": {
      "text/plain": [
       "Text(0.5,1,'Hourly Wind Gust Speed')"
      ]
     },
     "execution_count": 55,
     "metadata": {},
     "output_type": "execute_result"
    },
    {
     "data": {
      "image/png": "[encoded data removed]",
      "text/plain": [
       "<Figure size 432x288 with 1 Axes>"
      ]
     },
     "metadata": {},
     "output_type": "display_data"
    }
   ],
   "source": [
    "fig = plt.figure()\n",
    "axs = fig.add_subplot(111)\n",
    "axs.hist(df_skinny['HOURLYWindGustSpeed'][df_skinny['HOURLYWindGustSpeed'].isna() == False], bins = 30)\n",
    "axs.set_title('Hourly Wind Gust Speed')"
   ]
  },
  {
   "cell_type": "markdown",
   "metadata": {},
   "source": [
    "There was probably rounding at wind gust speeds approaching 20 mph"
   ]
  },
  {
   "cell_type": "markdown",
   "metadata": {},
   "source": [
    "Make feature for minutesof sunlight"
   ]
  },
  {
   "cell_type": "code",
   "execution_count": 56,
   "metadata": {},
   "outputs": [
    {
     "data": {
      "text/html": [
       "<div>\n",
       "<style scoped>\n",
       "    .dataframe tbody tr th:only-of-type {\n",
       "        vertical-align: middle;\n",
       "    }\n",
       "\n",
       "    .dataframe tbody tr th {\n",
       "        vertical-align: top;\n",
       "    }\n",
       "\n",
       "    .dataframe thead th {\n",
       "        text-align: right;\n",
       "    }\n",
       "</style>\n",
       "<table border=\"1\" class=\"dataframe\">\n",
       "  <thead>\n",
       "    <tr style=\"text-align: right;\">\n",
       "      <th></th>\n",
       "      <th>SunriseHour</th>\n",
       "      <th>SunriseMin</th>\n",
       "      <th>SunsetHour</th>\n",
       "      <th>SunsetMin</th>\n",
       "    </tr>\n",
       "  </thead>\n",
       "  <tbody>\n",
       "    <tr>\n",
       "      <th>0</th>\n",
       "      <td>5</td>\n",
       "      <td>37</td>\n",
       "      <td>18</td>\n",
       "      <td>4</td>\n",
       "    </tr>\n",
       "    <tr>\n",
       "      <th>1</th>\n",
       "      <td>5</td>\n",
       "      <td>37</td>\n",
       "      <td>18</td>\n",
       "      <td>4</td>\n",
       "    </tr>\n",
       "    <tr>\n",
       "      <th>2</th>\n",
       "      <td>5</td>\n",
       "      <td>37</td>\n",
       "      <td>18</td>\n",
       "      <td>4</td>\n",
       "    </tr>\n",
       "    <tr>\n",
       "      <th>3</th>\n",
       "      <td>5</td>\n",
       "      <td>37</td>\n",
       "      <td>18</td>\n",
       "      <td>4</td>\n",
       "    </tr>\n",
       "    <tr>\n",
       "      <th>4</th>\n",
       "      <td>5</td>\n",
       "      <td>37</td>\n",
       "      <td>18</td>\n",
       "      <td>4</td>\n",
       "    </tr>\n",
       "  </tbody>\n",
       "</table>\n",
       "</div>"
      ],
      "text/plain": [
       "   SunriseHour  SunriseMin  SunsetHour  SunsetMin\n",
       "0            5          37          18          4\n",
       "1            5          37          18          4\n",
       "2            5          37          18          4\n",
       "3            5          37          18          4\n",
       "4            5          37          18          4"
      ]
     },
     "execution_count": 56,
     "metadata": {},
     "output_type": "execute_result"
    }
   ],
   "source": [
    "df_skinny[['SunriseHour', 'SunriseMin', 'SunsetHour', 'SunsetMin']].head()"
   ]
  },
  {
   "cell_type": "code",
   "execution_count": 57,
   "metadata": {},
   "outputs": [],
   "source": [
    "df_skinny['SunlightMin'] = (df_skinny['SunsetHour'] - df_skinny['SunriseHour']) * 60 + df_skinny['SunsetMin'] - df_skinny['SunriseMin']"
   ]
  },
  {
   "cell_type": "code",
   "execution_count": 58,
   "metadata": {},
   "outputs": [
    {
     "data": {
      "text/plain": [
       "SunriseHour      5\n",
       "SunriseMin      39\n",
       "SunsetHour      18\n",
       "SunsetMin        0\n",
       "SunlightMin    741\n",
       "Name: 100, dtype: int64"
      ]
     },
     "execution_count": 58,
     "metadata": {},
     "output_type": "execute_result"
    }
   ],
   "source": [
    "df_skinny[['SunriseHour', 'SunriseMin', 'SunsetHour', 'SunsetMin', 'SunlightMin']].iloc[100]\n",
    "# Spot checking the results"
   ]
  },
  {
   "cell_type": "markdown",
   "metadata": {},
   "source": [
    "Remove troublesome values the features to be used in visualization:  \n",
    "Year, Month, Day, Hour, SunlightMin, HourlySkyWeather, HourlyVisibility, HourlyWindDirection, HOURLYWindSpeed"
   ]
  },
  {
   "cell_type": "code",
   "execution_count": 59,
   "metadata": {},
   "outputs": [],
   "source": [
    "keep = ['Year', 'Month', 'Day', 'Hour', 'SunlightMin', 'HourlySkyWeather', 'HourlyVisibility', 'HourlyWindDirection', 'HOURLYWindSpeed']"
   ]
  },
  {
   "cell_type": "code",
   "execution_count": 60,
   "metadata": {},
   "outputs": [
    {
     "data": {
      "text/plain": [
       "Year                   11959\n",
       "Month                  11959\n",
       "Day                    11959\n",
       "Hour                   11959\n",
       "SunlightMin            11959\n",
       "HourlySkyWeather       11959\n",
       "HourlyVisibility       11959\n",
       "HourlyWindDirection    11959\n",
       "HOURLYWindSpeed        10812\n",
       "dtype: int64"
      ]
     },
     "execution_count": 60,
     "metadata": {},
     "output_type": "execute_result"
    }
   ],
   "source": [
    "df_skinny[keep].count()"
   ]
  },
  {
   "cell_type": "markdown",
   "metadata": {},
   "source": [
    "Trear HOURLYWindSpeed for missing values"
   ]
  },
  {
   "cell_type": "code",
   "execution_count": 61,
   "metadata": {},
   "outputs": [
    {
     "data": {
      "text/plain": [
       "0    0.0\n",
       "1    0.0\n",
       "2    3.0\n",
       "3    3.0\n",
       "4    0.0\n",
       "Name: HOURLYWindSpeed, dtype: float64"
      ]
     },
     "execution_count": 61,
     "metadata": {},
     "output_type": "execute_result"
    }
   ],
   "source": [
    "df_skinny['HOURLYWindSpeed'].head()"
   ]
  },
  {
   "cell_type": "code",
   "execution_count": 62,
   "metadata": {},
   "outputs": [],
   "source": [
    "def get_wind_speed(row): # Create hourly wind speed feature\n",
    "    if pd.isna(row) == False:\n",
    "        return row\n",
    "    else:\n",
    "        return 'NaN'"
   ]
  },
  {
   "cell_type": "code",
   "execution_count": 63,
   "metadata": {},
   "outputs": [],
   "source": [
    "df_skinny['HourlyWindSpeed'] = df_skinny['HOURLYWindSpeed'].apply(get_wind_speed)"
   ]
  },
  {
   "cell_type": "code",
   "execution_count": 64,
   "metadata": {},
   "outputs": [
    {
     "data": {
      "text/plain": [
       "11959"
      ]
     },
     "execution_count": 64,
     "metadata": {},
     "output_type": "execute_result"
    }
   ],
   "source": [
    "df_skinny['HourlyWindSpeed'].count()"
   ]
  },
  {
   "cell_type": "code",
   "execution_count": 65,
   "metadata": {},
   "outputs": [],
   "source": [
    "keep = ['Year', 'Month', 'Day', 'Hour', 'SunlightMin', 'HourlySkyWeather', 'HourlyVisibility', 'HourlyWindDirection', 'HourlyWindSpeed']"
   ]
  },
  {
   "cell_type": "code",
   "execution_count": 66,
   "metadata": {},
   "outputs": [],
   "source": [
    "df_keep = df_skinny[keep]"
   ]
  },
  {
   "cell_type": "code",
   "execution_count": 67,
   "metadata": {},
   "outputs": [
    {
     "data": {
      "text/plain": [
       "Year                   11959\n",
       "Month                  11959\n",
       "Day                    11959\n",
       "Hour                   11959\n",
       "SunlightMin            11959\n",
       "HourlySkyWeather       11959\n",
       "HourlyVisibility       11959\n",
       "HourlyWindDirection    11959\n",
       "HourlyWindSpeed        11959\n",
       "dtype: int64"
      ]
     },
     "execution_count": 67,
     "metadata": {},
     "output_type": "execute_result"
    }
   ],
   "source": [
    "df_keep.count()"
   ]
  },
  {
   "cell_type": "code",
   "execution_count": 68,
   "metadata": {},
   "outputs": [
    {
     "data": {
      "text/plain": [
       "Index(['Year', 'Month', 'Day', 'Hour', 'SunlightMin', 'HourlySkyWeather',\n",
       "       'HourlyVisibility', 'HourlyWindDirection', 'HourlyWindSpeed'],\n",
       "      dtype='object')"
      ]
     },
     "execution_count": 68,
     "metadata": {},
     "output_type": "execute_result"
    }
   ],
   "source": [
    "df_keep.columns"
   ]
  },
  {
   "cell_type": "code",
   "execution_count": 79,
   "metadata": {},
   "outputs": [
    {
     "data": {
      "text/plain": [
       "Year                   2017\n",
       "Month                     9\n",
       "Day                      16\n",
       "Hour                      0\n",
       "SunlightMin             747\n",
       "HourlySkyWeather        CLR\n",
       "HourlyVisibility          7\n",
       "HourlyWindDirection       0\n",
       "HourlyWindSpeed           0\n",
       "Name: 0, dtype: object"
      ]
     },
     "execution_count": 79,
     "metadata": {},
     "output_type": "execute_result"
    }
   ],
   "source": [
    "df_keep.iloc[0]"
   ]
  },
  {
   "cell_type": "code",
   "execution_count": 80,
   "metadata": {},
   "outputs": [
    {
     "data": {
      "text/plain": [
       "Year                    2018\n",
       "Month                      9\n",
       "Day                       15\n",
       "Hour                      23\n",
       "SunlightMin              747\n",
       "HourlySkyWeather         CLR\n",
       "HourlyVisibility         NaN\n",
       "HourlyWindDirection    False\n",
       "HourlyWindSpeed          NaN\n",
       "Name: 11958, dtype: object"
      ]
     },
     "execution_count": 80,
     "metadata": {},
     "output_type": "execute_result"
    }
   ],
   "source": [
    "df_keep.iloc[-1]"
   ]
  },
  {
   "cell_type": "code",
   "execution_count": 82,
   "metadata": {},
   "outputs": [
    {
     "data": {
      "text/plain": [
       "Hour\n",
       "0     485\n",
       "1     507\n",
       "2     491\n",
       "3     496\n",
       "4     507\n",
       "5     537\n",
       "6     533\n",
       "7     506\n",
       "8     489\n",
       "9     496\n",
       "10    465\n",
       "11    492\n",
       "12    474\n",
       "13    460\n",
       "14    455\n",
       "15    462\n",
       "16    463\n",
       "17    475\n",
       "18    453\n",
       "19    446\n",
       "20    466\n",
       "21    474\n",
       "22    470\n",
       "23    857\n",
       "Name: Year, dtype: int64"
      ]
     },
     "execution_count": 82,
     "metadata": {},
     "output_type": "execute_result"
    }
   ],
   "source": [
    "df_keep['Year'].groupby(by = df_keep['Hour']).count()"
   ]
  },
  {
   "cell_type": "markdown",
   "metadata": {},
   "source": [
    "Something weird might be going on with the time features..."
   ]
  },
  {
   "cell_type": "code",
   "execution_count": 85,
   "metadata": {},
   "outputs": [
    {
     "data": {
      "text/html": [
       "<div>\n",
       "<style scoped>\n",
       "    .dataframe tbody tr th:only-of-type {\n",
       "        vertical-align: middle;\n",
       "    }\n",
       "\n",
       "    .dataframe tbody tr th {\n",
       "        vertical-align: top;\n",
       "    }\n",
       "\n",
       "    .dataframe thead th {\n",
       "        text-align: right;\n",
       "    }\n",
       "</style>\n",
       "<table border=\"1\" class=\"dataframe\">\n",
       "  <thead>\n",
       "    <tr style=\"text-align: right;\">\n",
       "      <th></th>\n",
       "      <th>Year</th>\n",
       "      <th>Month</th>\n",
       "      <th>Day</th>\n",
       "      <th>Hour</th>\n",
       "      <th>SunlightMin</th>\n",
       "      <th>HourlySkyWeather</th>\n",
       "      <th>HourlyVisibility</th>\n",
       "      <th>HourlyWindDirection</th>\n",
       "      <th>HourlyWindSpeed</th>\n",
       "    </tr>\n",
       "  </thead>\n",
       "  <tbody>\n",
       "    <tr>\n",
       "      <th>37</th>\n",
       "      <td>2017</td>\n",
       "      <td>9</td>\n",
       "      <td>16</td>\n",
       "      <td>23</td>\n",
       "      <td>744</td>\n",
       "      <td>SCT</td>\n",
       "      <td>5</td>\n",
       "      <td>0</td>\n",
       "      <td>0</td>\n",
       "    </tr>\n",
       "    <tr>\n",
       "      <th>38</th>\n",
       "      <td>2017</td>\n",
       "      <td>9</td>\n",
       "      <td>16</td>\n",
       "      <td>23</td>\n",
       "      <td>744</td>\n",
       "      <td>FEW</td>\n",
       "      <td>5</td>\n",
       "      <td>0</td>\n",
       "      <td>0</td>\n",
       "    </tr>\n",
       "    <tr>\n",
       "      <th>39</th>\n",
       "      <td>2017</td>\n",
       "      <td>9</td>\n",
       "      <td>16</td>\n",
       "      <td>23</td>\n",
       "      <td>744</td>\n",
       "      <td>NaN</td>\n",
       "      <td>NaN</td>\n",
       "      <td>False</td>\n",
       "      <td>NaN</td>\n",
       "    </tr>\n",
       "    <tr>\n",
       "      <th>87</th>\n",
       "      <td>2017</td>\n",
       "      <td>9</td>\n",
       "      <td>17</td>\n",
       "      <td>23</td>\n",
       "      <td>741</td>\n",
       "      <td>OVC</td>\n",
       "      <td>7</td>\n",
       "      <td>0</td>\n",
       "      <td>0</td>\n",
       "    </tr>\n",
       "    <tr>\n",
       "      <th>88</th>\n",
       "      <td>2017</td>\n",
       "      <td>9</td>\n",
       "      <td>17</td>\n",
       "      <td>23</td>\n",
       "      <td>741</td>\n",
       "      <td>BKN</td>\n",
       "      <td>7</td>\n",
       "      <td>60</td>\n",
       "      <td>3</td>\n",
       "    </tr>\n",
       "  </tbody>\n",
       "</table>\n",
       "</div>"
      ],
      "text/plain": [
       "    Year  Month  Day  Hour  SunlightMin HourlySkyWeather HourlyVisibility  \\\n",
       "37  2017      9   16    23          744              SCT                5   \n",
       "38  2017      9   16    23          744              FEW                5   \n",
       "39  2017      9   16    23          744              NaN              NaN   \n",
       "87  2017      9   17    23          741              OVC                7   \n",
       "88  2017      9   17    23          741              BKN                7   \n",
       "\n",
       "   HourlyWindDirection HourlyWindSpeed  \n",
       "37                   0               0  \n",
       "38                   0               0  \n",
       "39               False             NaN  \n",
       "87                   0               0  \n",
       "88                  60               3  "
      ]
     },
     "execution_count": 85,
     "metadata": {},
     "output_type": "execute_result"
    }
   ],
   "source": [
    "df_keep[df_keep['Hour'] == 23].head()"
   ]
  },
  {
   "cell_type": "code",
   "execution_count": 86,
   "metadata": {},
   "outputs": [
    {
     "data": {
      "text/html": [
       "<div>\n",
       "<style scoped>\n",
       "    .dataframe tbody tr th:only-of-type {\n",
       "        vertical-align: middle;\n",
       "    }\n",
       "\n",
       "    .dataframe tbody tr th {\n",
       "        vertical-align: top;\n",
       "    }\n",
       "\n",
       "    .dataframe thead th {\n",
       "        text-align: right;\n",
       "    }\n",
       "</style>\n",
       "<table border=\"1\" class=\"dataframe\">\n",
       "  <thead>\n",
       "    <tr style=\"text-align: right;\">\n",
       "      <th></th>\n",
       "      <th>Year</th>\n",
       "      <th>Month</th>\n",
       "      <th>Day</th>\n",
       "      <th>Hour</th>\n",
       "      <th>SunlightMin</th>\n",
       "      <th>HourlySkyWeather</th>\n",
       "      <th>HourlyVisibility</th>\n",
       "      <th>HourlyWindDirection</th>\n",
       "      <th>HourlyWindSpeed</th>\n",
       "    </tr>\n",
       "  </thead>\n",
       "  <tbody>\n",
       "    <tr>\n",
       "      <th>35</th>\n",
       "      <td>2017</td>\n",
       "      <td>9</td>\n",
       "      <td>16</td>\n",
       "      <td>22</td>\n",
       "      <td>744</td>\n",
       "      <td>BKN</td>\n",
       "      <td>6</td>\n",
       "      <td>290</td>\n",
       "      <td>3</td>\n",
       "    </tr>\n",
       "    <tr>\n",
       "      <th>36</th>\n",
       "      <td>2017</td>\n",
       "      <td>9</td>\n",
       "      <td>16</td>\n",
       "      <td>22</td>\n",
       "      <td>744</td>\n",
       "      <td>OVC</td>\n",
       "      <td>6</td>\n",
       "      <td>290</td>\n",
       "      <td>3</td>\n",
       "    </tr>\n",
       "    <tr>\n",
       "      <th>86</th>\n",
       "      <td>2017</td>\n",
       "      <td>9</td>\n",
       "      <td>17</td>\n",
       "      <td>22</td>\n",
       "      <td>741</td>\n",
       "      <td>OVC</td>\n",
       "      <td>6</td>\n",
       "      <td>0</td>\n",
       "      <td>0</td>\n",
       "    </tr>\n",
       "    <tr>\n",
       "      <th>124</th>\n",
       "      <td>2017</td>\n",
       "      <td>9</td>\n",
       "      <td>18</td>\n",
       "      <td>22</td>\n",
       "      <td>739</td>\n",
       "      <td>OVC</td>\n",
       "      <td>10</td>\n",
       "      <td>False</td>\n",
       "      <td>8</td>\n",
       "    </tr>\n",
       "    <tr>\n",
       "      <th>157</th>\n",
       "      <td>2017</td>\n",
       "      <td>9</td>\n",
       "      <td>19</td>\n",
       "      <td>22</td>\n",
       "      <td>736</td>\n",
       "      <td>OVC</td>\n",
       "      <td>10</td>\n",
       "      <td>False</td>\n",
       "      <td>9</td>\n",
       "    </tr>\n",
       "  </tbody>\n",
       "</table>\n",
       "</div>"
      ],
      "text/plain": [
       "     Year  Month  Day  Hour  SunlightMin HourlySkyWeather HourlyVisibility  \\\n",
       "35   2017      9   16    22          744              BKN                6   \n",
       "36   2017      9   16    22          744              OVC                6   \n",
       "86   2017      9   17    22          741              OVC                6   \n",
       "124  2017      9   18    22          739              OVC               10   \n",
       "157  2017      9   19    22          736              OVC               10   \n",
       "\n",
       "    HourlyWindDirection HourlyWindSpeed  \n",
       "35                  290               3  \n",
       "36                  290               3  \n",
       "86                    0               0  \n",
       "124               False               8  \n",
       "157               False               9  "
      ]
     },
     "execution_count": 86,
     "metadata": {},
     "output_type": "execute_result"
    }
   ],
   "source": [
    "df_keep[df_keep['Hour'] == 22].head()"
   ]
  },
  {
   "cell_type": "markdown",
   "metadata": {},
   "source": [
    "There are duplicate rows!"
   ]
  },
  {
   "cell_type": "code",
   "execution_count": 90,
   "metadata": {},
   "outputs": [
    {
     "data": {
      "text/plain": [
       "Year  Month  Day  Hour\n",
       "2017  9      16   0       1\n",
       "                  1       1\n",
       "                  2       1\n",
       "                  3       2\n",
       "                  4       3\n",
       "                  5       2\n",
       "                  6       2\n",
       "                  7       3\n",
       "                  8       2\n",
       "                  9       1\n",
       "                  10      4\n",
       "                  11      2\n",
       "                  12      2\n",
       "                  13      1\n",
       "                  14      1\n",
       "                  15      1\n",
       "                  16      1\n",
       "                  17      1\n",
       "                  18      1\n",
       "                  19      1\n",
       "                  20      1\n",
       "                  21      1\n",
       "                  22      2\n",
       "                  23      3\n",
       "             17   0       1\n",
       "                  1       2\n",
       "                  2       4\n",
       "                  3       4\n",
       "                  4       3\n",
       "                  5       4\n",
       "                         ..\n",
       "2018  9      14   16      1\n",
       "                  17      1\n",
       "                  18      1\n",
       "                  19      1\n",
       "                  20      1\n",
       "                  21      1\n",
       "                  22      1\n",
       "                  23      2\n",
       "             15   0       4\n",
       "                  1       1\n",
       "                  2       1\n",
       "                  3       1\n",
       "                  4       1\n",
       "                  5       1\n",
       "                  6       1\n",
       "                  7       3\n",
       "                  8       2\n",
       "                  9       2\n",
       "                  10      2\n",
       "                  11      1\n",
       "                  12      2\n",
       "                  13      1\n",
       "                  14      1\n",
       "                  15      1\n",
       "                  16      1\n",
       "                  19      1\n",
       "                  20      1\n",
       "                  21      1\n",
       "                  22      1\n",
       "                  23      1\n",
       "Name: HourlySkyWeather, Length: 8758, dtype: int64"
      ]
     },
     "execution_count": 90,
     "metadata": {},
     "output_type": "execute_result"
    }
   ],
   "source": [
    "df_keep['HourlySkyWeather'].groupby(by = [df_keep['Year'], df_keep['Month'], df_keep['Day'], df_keep['Hour']]).count()"
   ]
  },
  {
   "cell_type": "code",
   "execution_count": 92,
   "metadata": {},
   "outputs": [],
   "source": [
    "df_dedup = df_keep.drop_duplicates(subset = ['Year', 'Month', 'Day', 'Hour'], keep = 'first')"
   ]
  },
  {
   "cell_type": "code",
   "execution_count": 93,
   "metadata": {},
   "outputs": [
    {
     "data": {
      "text/plain": [
       "Year  Month  Day  Hour\n",
       "2017  9      16   0       1\n",
       "                  1       1\n",
       "                  2       1\n",
       "                  3       1\n",
       "                  4       1\n",
       "                  5       1\n",
       "                  6       1\n",
       "                  7       1\n",
       "                  8       1\n",
       "                  9       1\n",
       "                  10      1\n",
       "                  11      1\n",
       "                  12      1\n",
       "                  13      1\n",
       "                  14      1\n",
       "                  15      1\n",
       "                  16      1\n",
       "                  17      1\n",
       "                  18      1\n",
       "                  19      1\n",
       "                  20      1\n",
       "                  21      1\n",
       "                  22      1\n",
       "                  23      1\n",
       "             17   0       1\n",
       "                  1       1\n",
       "                  2       1\n",
       "                  3       1\n",
       "                  4       1\n",
       "                  5       1\n",
       "                         ..\n",
       "2018  9      14   16      1\n",
       "                  17      1\n",
       "                  18      1\n",
       "                  19      1\n",
       "                  20      1\n",
       "                  21      1\n",
       "                  22      1\n",
       "                  23      1\n",
       "             15   0       1\n",
       "                  1       1\n",
       "                  2       1\n",
       "                  3       1\n",
       "                  4       1\n",
       "                  5       1\n",
       "                  6       1\n",
       "                  7       1\n",
       "                  8       1\n",
       "                  9       1\n",
       "                  10      1\n",
       "                  11      1\n",
       "                  12      1\n",
       "                  13      1\n",
       "                  14      1\n",
       "                  15      1\n",
       "                  16      1\n",
       "                  19      1\n",
       "                  20      1\n",
       "                  21      1\n",
       "                  22      1\n",
       "                  23      1\n",
       "Name: HourlySkyWeather, Length: 8758, dtype: int64"
      ]
     },
     "execution_count": 93,
     "metadata": {},
     "output_type": "execute_result"
    }
   ],
   "source": [
    "df_dedup['HourlySkyWeather'].groupby(by = [df_keep['Year'], df_keep['Month'], df_keep['Day'], df_keep['Hour']]).count()"
   ]
  },
  {
   "cell_type": "code",
   "execution_count": 95,
   "metadata": {},
   "outputs": [
    {
     "data": {
      "text/plain": [
       "364.9166666666667"
      ]
     },
     "execution_count": 95,
     "metadata": {},
     "output_type": "execute_result"
    }
   ],
   "source": [
    "df_dedup.shape[0] / 24"
   ]
  },
  {
   "cell_type": "markdown",
   "metadata": {},
   "source": [
    "Might be missing some data but I'll try using df_dedup"
   ]
  },
  {
   "cell_type": "code",
   "execution_count": 96,
   "metadata": {},
   "outputs": [],
   "source": [
    "df_dedup.to_csv('../resources/weatherData.csv')"
   ]
  }
 ],
 "metadata": {
  "kernelspec": {
   "display_name": "Python 3",
   "language": "python",
   "name": "python3"
  },
  "language_info": {
   "codemirror_mode": {
    "name": "ipython",
    "version": 3
   },
   "file_extension": ".py",
   "mimetype": "text/x-python",
   "name": "python",
   "nbconvert_exporter": "python",
   "pygments_lexer": "ipython3",
   "version": "3.7.0"
  }
 },
 "nbformat": 4,
 "nbformat_minor": 2
}
